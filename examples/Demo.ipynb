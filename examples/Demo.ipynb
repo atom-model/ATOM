{
 "cells": [
  {
   "cell_type": "markdown",
   "metadata": {},
   "source": [
    "# Jupyter ATOM demo"
   ]
  },
  {
   "cell_type": "code",
   "execution_count": null,
   "metadata": {},
   "outputs": [],
   "source": [
    "import sys, random\n",
    "sys.path.append('./reconstruction')\n",
    "from reconstruct_atom_data import *\n",
    "\n",
    "from pyatom import Model\n",
    "\n",
    "model = Model()\n",
    "times=range(0,55,5)\n",
    "\n",
    "for t in range(len(times)):\n",
    "    time = times[t]\n",
    "    model.run_atm( time, './output/', './config_atm.xml' )\n",
    "    model.run_hyd( time, './output/', './config_hyd.xml' )\n",
    "    if t<len(times)-1:\n",
    "        reconstruct_temperature(time,times[t+1])\n",
    "        reconstruct_precipitation(time,times[t+1])\n",
    "        reconstruct_salinity(time,times[t+1])"
   ]
  },
  {
   "cell_type": "code",
   "execution_count": null,
   "metadata": {},
   "outputs": [],
   "source": []
  }
 ],
 "metadata": {
  "kernelspec": {
   "display_name": "Python 2",
   "language": "python",
   "name": "python2"
  },
  "language_info": {
   "codemirror_mode": {
    "name": "ipython",
    "version": 2
   },
   "file_extension": ".py",
   "mimetype": "text/x-python",
   "name": "python",
   "nbconvert_exporter": "python",
   "pygments_lexer": "ipython2",
   "version": "2.7.12"
  }
 },
 "nbformat": 4,
 "nbformat_minor": 1
}
