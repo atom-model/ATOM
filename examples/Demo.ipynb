{
 "cells": [
  {
   "cell_type": "markdown",
   "metadata": {},
   "source": [
    "# Jupyter ATOM demo"
   ]
  },
  {
   "cell_type": "code",
   "execution_count": null,
   "metadata": {
    "collapsed": false
   },
   "outputs": [],
   "source": [
    "from pyatom import Atmosphere\n",
    "\n",
    "# Create an Atmosphere model with the default configuration\n",
    "model = Atmosphere()\n",
    "\n",
    "# If you want a custom configuration, you can load it like so\n",
    "#model.load_config('example_atmosphere.xml')\n",
    "\n",
    "# You can also modify model parameters directly through Python\n",
    "# print model.verbose\n",
    "\n",
    "# Run the model to a specified time period (in this case, 20Ma)\n",
    "# model.run(t=20)\n",
    "\n",
    "# Run the model to completion (specified in the config file)\n",
    "#model.run()\n"
   ]
  },
  {
   "cell_type": "code",
   "execution_count": null,
   "metadata": {
    "collapsed": false
   },
   "outputs": [],
   "source": [
    "dir(model)\n",
    "print model.coriolis\n",
    "\n",
    "model.coriolis = 2.0\n",
    "\n",
    "print model.coriolis"
   ]
  },
  {
   "cell_type": "code",
   "execution_count": null,
   "metadata": {
    "collapsed": true
   },
   "outputs": [],
   "source": [
    "# plot outputs\n"
   ]
  }
 ],
 "metadata": {
  "kernelspec": {
   "display_name": "Python 2",
   "language": "python",
   "name": "python2"
  },
  "language_info": {
   "codemirror_mode": {
    "name": "ipython",
    "version": 2
   },
   "file_extension": ".py",
   "mimetype": "text/x-python",
   "name": "python",
   "nbconvert_exporter": "python",
   "pygments_lexer": "ipython2",
   "version": "2.7.11"
  }
 },
 "nbformat": 4,
 "nbformat_minor": 0
}
