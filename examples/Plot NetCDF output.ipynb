{
 "cells": [
  {
   "cell_type": "code",
   "execution_count": null,
   "metadata": {
    "collapsed": false
   },
   "outputs": [],
   "source": [
    "from netCDF4 import Dataset\n",
    "import numpy as np\n",
    "import matplotlib.pyplot as plt\n",
    "from mpl_toolkits.basemap import Basemap\n"
   ]
  },
  {
   "cell_type": "code",
   "execution_count": null,
   "metadata": {
    "collapsed": false
   },
   "outputs": [],
   "source": [
    "import os\n",
    "os.listdir('..')\n",
    "\n",
    "# fname = '0Ma_etopo.xyz_atmosphere.nc'\n",
    "# fh = Dataset(fname, mode='r')"
   ]
  },
  {
   "cell_type": "code",
   "execution_count": null,
   "metadata": {
    "collapsed": false
   },
   "outputs": [],
   "source": [
    "# try it with the XYZ file instead\n",
    "rec = np.genfromtxt('[0Ma_etopo.xyz]_PlotData_Atm.xyz', skip_header=1)\n",
    "\n",
    "np.hsplit(rec, 8)\n",
    "# FIXME: the xyz file says it's lat+lon order, but the range (0-180, 0-360) suggests it's lon/lat. What's the correct answer here?\n",
    "# lats, lons, vvelocity, wvelocity, temperature, water_vapour, precipitation, precipitable_water = np.hsplit(rec, 8)\n",
    "lons, lats, vvelocity, wvelocity, temperature, water_vapour, precipitation, precipitable_water = np.hsplit(rec, 8)\n",
    "\n",
    "# consider:\n",
    "# topoin,lons = shiftgrid(180.,topoin,lons,start=False)\n",
    "print lats.shape\n",
    "lats -= 90.\n",
    "print lats\n",
    "print lons.shape\n",
    "lons -= 180.\n",
    "print lons\n",
    "# print precipitation.shape\n",
    "# print temperature"
   ]
  },
  {
   "cell_type": "code",
   "execution_count": null,
   "metadata": {
    "collapsed": false
   },
   "outputs": [],
   "source": [
    "# plot the initial condition xyz files\n",
    "rec = np.genfromtxt('SurfacePrecipitation_NASA.xyz')\n",
    "\n",
    "lons = rec[:, 0]\n",
    "lats = rec[:, 1]\n",
    "elev = rec[:, 2]\n",
    "\n",
    "plt.figure(figsize=(15, 8))\n",
    "\n",
    "m = Basemap(llcrnrlon=0,llcrnrlat=-80,urcrnrlon=360,urcrnrlat=80,projection='kav7', lon_0=0)\n",
    "xi, yi = m(lons, lats)\n",
    "\n",
    "cs = m.scatter(xi, yi, marker='.', c=elev, alpha=1.0, lw=0)\n",
    "\n",
    "# Add Grid Lines\n",
    "m.drawparallels(np.arange(-80., 81., 10.), labels=[1,0,0,0], fontsize=10)\n",
    "m.drawmeridians(np.arange(-180., 181., 10.), labels=[0,0,0,1], fontsize=10)\n",
    "\n",
    "m.drawcoastlines()\n",
    "\n",
    "# Add Colorbar\n",
    "cbar = m.colorbar(cs, location='bottom', pad=\"10%\")\n",
    "# cbar.set_label(tmax_units)\n",
    "\n",
    "# Add Title\n",
    "plt.title('Initial surface precipitation')\n",
    "\n",
    "plt.show()\n"
   ]
  },
  {
   "cell_type": "code",
   "execution_count": null,
   "metadata": {
    "collapsed": false
   },
   "outputs": [],
   "source": [
    "# can you plot the initial condition xyz files?\n",
    "rec = np.genfromtxt('0Ma_etopo.xyz')\n",
    "\n",
    "plt.figure(figsize=(15, 8))\n",
    "\n",
    "\n",
    "lons = rec[:, 0]\n",
    "lats = rec[:, 1]\n",
    "elev = rec[:, 2]\n",
    "\n",
    "m = Basemap(llcrnrlon=0,llcrnrlat=-80,urcrnrlon=360,urcrnrlat=80,projection='kav7', lon_0=0)\n",
    "xi, yi = m(lons, lats)\n",
    "\n",
    "cs = m.scatter(xi, yi, marker='.', c=elev, alpha=1.0, lw=0)\n",
    "\n",
    "# Add Grid Lines\n",
    "m.drawparallels(np.arange(-80., 81., 10.), labels=[1,0,0,0], fontsize=10)\n",
    "m.drawmeridians(np.arange(-180., 181., 10.), labels=[0,0,0,1], fontsize=10)\n",
    "\n",
    "m.drawcoastlines()\n",
    "\n",
    "# Add Colorbar\n",
    "cbar = m.colorbar(cs, location='bottom', pad=\"10%\")\n",
    "# cbar.set_label(tmax_units)\n",
    "\n",
    "# Add Title\n",
    "plt.title('Initial topography')\n",
    "\n",
    "plt.show()\n",
    "\n"
   ]
  },
  {
   "cell_type": "code",
   "execution_count": null,
   "metadata": {
    "collapsed": false
   },
   "outputs": [],
   "source": [
    "# can you plot the initial condition xyz files?\n",
    "rec = np.genfromtxt('SurfaceTemperature.xyz')\n",
    "\n",
    "plt.figure(figsize=(15, 8))\n",
    "\n",
    "\n",
    "lons = rec[:, 0]\n",
    "lats = rec[:, 1]\n",
    "elev = rec[:, 2]\n",
    "\n",
    "m = Basemap(llcrnrlon=0,llcrnrlat=-80,urcrnrlon=360,urcrnrlat=80,projection='kav7', lon_0=0)\n",
    "xi, yi = m(lons, lats)\n",
    "\n",
    "cs = m.scatter(xi, yi, marker='.', c=elev, alpha=1.0, lw=0)\n",
    "\n",
    "# Add Grid Lines\n",
    "m.drawparallels(np.arange(-80., 81., 10.), labels=[1,0,0,0], fontsize=10)\n",
    "m.drawmeridians(np.arange(-180., 181., 10.), labels=[0,0,0,1], fontsize=10)\n",
    "\n",
    "m.drawcoastlines()\n",
    "\n",
    "# Add Colorbar\n",
    "cbar = m.colorbar(cs, location='bottom', pad=\"10%\")\n",
    "# cbar.set_label(tmax_units)\n",
    "\n",
    "# Add Title\n",
    "plt.title('Initial surface temperature')\n",
    "\n",
    "plt.show()\n",
    "\n",
    "\n"
   ]
  },
  {
   "cell_type": "code",
   "execution_count": null,
   "metadata": {
    "collapsed": false
   },
   "outputs": [],
   "source": [
    "rec = np.genfromtxt('[0Ma_etopo.xyz]_PlotData_Atm.xyz', skip_header=1)\n",
    "\n",
    "lons, lats, vvelocity, wvelocity, temperature, water_vapour, precipitation, precipitable_water = np.hsplit(rec, 8)\n",
    "\n",
    "lats -= 90.\n",
    "lats *= -1.\n",
    "# lons -= 180.\n",
    "\n",
    "# topoin,lons = shiftgrid(180.,topoin,lons,start=False)\n",
    "\n"
   ]
  },
  {
   "cell_type": "code",
   "execution_count": null,
   "metadata": {
    "collapsed": false
   },
   "outputs": [],
   "source": [
    "plt.figure(figsize=(15, 8))\n",
    "\n",
    "m = Basemap(llcrnrlon=0,llcrnrlat=-80,urcrnrlon=360,urcrnrlat=80,projection='kav7', lon_0=0)\n",
    "xi, yi = m(lons, lats)\n",
    "\n",
    "cs = m.scatter(xi, yi, marker='.', c=wvelocity, alpha=1.0, lw=0)\n",
    "\n",
    "# Add Grid Lines\n",
    "m.drawparallels(np.arange(-80., 81., 10.), labels=[1,0,0,0], fontsize=10)\n",
    "m.drawmeridians(np.arange(-180., 181., 10.), labels=[0,0,0,1], fontsize=10)\n",
    "\n",
    "m.drawcoastlines()\n",
    "\n",
    "# Add Colorbar\n",
    "cbar = m.colorbar(cs, location='bottom', pad=\"10%\")\n",
    "# cbar.set_label(tmax_units)\n",
    "\n",
    "# Add Title\n",
    "plt.title('wvelocity')\n",
    "\n",
    "plt.show()\n",
    "\n"
   ]
  },
  {
   "cell_type": "code",
   "execution_count": null,
   "metadata": {
    "collapsed": false
   },
   "outputs": [],
   "source": [
    "plt.figure(figsize=(15, 8))\n",
    "\n",
    "m = Basemap(llcrnrlon=0,llcrnrlat=-80,urcrnrlon=360,urcrnrlat=80,projection='kav7', lon_0=0)\n",
    "xi, yi = m(lons, lats)\n",
    "\n",
    "cs = m.scatter(xi, yi, marker='.', c=vvelocity, alpha=1.0, lw=0)\n",
    "\n",
    "# Add Grid Lines\n",
    "m.drawparallels(np.arange(-80., 81., 10.), labels=[1,0,0,0], fontsize=10)\n",
    "m.drawmeridians(np.arange(-180., 181., 10.), labels=[0,0,0,1], fontsize=10)\n",
    "\n",
    "m.drawcoastlines()\n",
    "\n",
    "# Add Colorbar\n",
    "cbar = m.colorbar(cs, location='bottom', pad=\"10%\")\n",
    "# cbar.set_label(tmax_units)\n",
    "\n",
    "# Add Title\n",
    "plt.title('vvelocity')\n",
    "\n",
    "plt.show()\n",
    "\n",
    "\n"
   ]
  },
  {
   "cell_type": "code",
   "execution_count": null,
   "metadata": {
    "collapsed": false
   },
   "outputs": [],
   "source": [
    "plt.figure(figsize=(15, 8))\n",
    "\n",
    "m = Basemap(llcrnrlon=0,llcrnrlat=-80,urcrnrlon=360,urcrnrlat=80,projection='kav7', lon_0=0)\n",
    "xi, yi = m(lons, lats)\n",
    "\n",
    "cs = m.scatter(xi, yi, marker='.', c=temperature, alpha=1.0, lw=0)\n",
    "\n",
    "# Add Grid Lines\n",
    "m.drawparallels(np.arange(-80., 81., 10.), labels=[1,0,0,0], fontsize=10)\n",
    "m.drawmeridians(np.arange(-180., 181., 10.), labels=[0,0,0,1], fontsize=10)\n",
    "\n",
    "m.drawcoastlines()\n",
    "\n",
    "# Add Colorbar\n",
    "cbar = m.colorbar(cs, location='bottom', pad=\"10%\")\n",
    "# cbar.set_label(tmax_units)\n",
    "\n",
    "# Add Title\n",
    "plt.title('temperature')\n",
    "\n",
    "plt.show()\n",
    "\n",
    "\n"
   ]
  },
  {
   "cell_type": "code",
   "execution_count": null,
   "metadata": {
    "collapsed": false
   },
   "outputs": [],
   "source": [
    "plt.figure(figsize=(15, 8))\n",
    "\n",
    "m = Basemap(llcrnrlon=0,llcrnrlat=-80,urcrnrlon=360,urcrnrlat=80,projection='kav7', lon_0=0)\n",
    "xi, yi = m(lons, lats)\n",
    "\n",
    "cs = m.scatter(xi, yi, marker='.', c=water_vapour, alpha=1.0, lw=0)\n",
    "\n",
    "# Add Grid Lines\n",
    "m.drawparallels(np.arange(-80., 81., 10.), labels=[1,0,0,0], fontsize=10)\n",
    "m.drawmeridians(np.arange(-180., 181., 10.), labels=[0,0,0,1], fontsize=10)\n",
    "\n",
    "m.drawcoastlines()\n",
    "\n",
    "# Add Colorbar\n",
    "cbar = m.colorbar(cs, location='bottom', pad=\"10%\")\n",
    "# cbar.set_label(tmax_units)\n",
    "\n",
    "# Add Title\n",
    "plt.title('water_vapour')\n",
    "\n",
    "plt.show()\n",
    "\n",
    "\n",
    "\n"
   ]
  },
  {
   "cell_type": "code",
   "execution_count": null,
   "metadata": {
    "collapsed": false
   },
   "outputs": [],
   "source": [
    "plt.figure(figsize=(15, 8))\n",
    "\n",
    "m = Basemap(llcrnrlon=0,llcrnrlat=-80,urcrnrlon=360,urcrnrlat=80,projection='kav7', lon_0=0)\n",
    "xi, yi = m(lons, lats)\n",
    "\n",
    "cs = m.scatter(xi, yi, marker='.', c=precipitation, alpha=1.0, lw=0)\n",
    "\n",
    "# Add Grid Lines\n",
    "m.drawparallels(np.arange(-80., 81., 10.), labels=[1,0,0,0], fontsize=10)\n",
    "m.drawmeridians(np.arange(-180., 181., 10.), labels=[0,0,0,1], fontsize=10)\n",
    "\n",
    "m.drawcoastlines()\n",
    "\n",
    "# Add Colorbar\n",
    "cbar = m.colorbar(cs, location='bottom', pad=\"10%\")\n",
    "# cbar.set_label(tmax_units)\n",
    "\n",
    "# Add Title\n",
    "plt.title('precipitation')\n",
    "\n",
    "plt.show()\n",
    "\n",
    "\n",
    "\n"
   ]
  },
  {
   "cell_type": "code",
   "execution_count": null,
   "metadata": {
    "collapsed": false
   },
   "outputs": [],
   "source": [
    "plt.figure(figsize=(15, 8))\n",
    "\n",
    "m = Basemap(llcrnrlon=0,llcrnrlat=-80,urcrnrlon=360,urcrnrlat=80,projection='kav7', lon_0=0)\n",
    "xi, yi = m(lons, lats)\n",
    "\n",
    "cs = m.scatter(xi, yi, marker='.', c=precipitable_water, alpha=1.0, lw=0)\n",
    "\n",
    "# Add Grid Lines\n",
    "m.drawparallels(np.arange(-80., 81., 10.), labels=[1,0,0,0], fontsize=10)\n",
    "m.drawmeridians(np.arange(-180., 181., 10.), labels=[0,0,0,1], fontsize=10)\n",
    "\n",
    "m.drawcoastlines()\n",
    "\n",
    "# Add Colorbar\n",
    "cbar = m.colorbar(cs, location='bottom', pad=\"10%\")\n",
    "# cbar.set_label(tmax_units)\n",
    "\n",
    "# Add Title\n",
    "plt.title('precipitable_water')\n",
    "\n",
    "plt.show()\n",
    "\n",
    "\n",
    "\n"
   ]
  },
  {
   "cell_type": "markdown",
   "metadata": {},
   "source": [
    "# Now with NetCDF"
   ]
  },
  {
   "cell_type": "code",
   "execution_count": null,
   "metadata": {
    "collapsed": false
   },
   "outputs": [],
   "source": [
    "fname = '0Ma_etopo.xyz_atmosphere.nc'\n",
    "fh = Dataset(fname, mode='r')\n",
    "\n",
    "# level, latitude, longitude, time\n",
    "# v_velocity_co2_mponent\n",
    "# w_velocity_co2_mponent\n",
    "# level_over_NN\n",
    "# precipitation\n",
    "# precipitable_water\n",
    "\n",
    "lats = fh.variables['latitude'][:]\n",
    "lons = fh.variables['longitude'][:]\n",
    "precipitation = fh.variables['precipitation'][:][0][0]\n",
    "# precipitation = fh.variables['precipitable_water'][:][0][0]\n",
    "\n",
    "print lats.shape\n",
    "print lons.shape\n",
    "print precipitation.shape\n",
    "\n",
    "lonlon, latlat = np.meshgrid(lons, lats)\n",
    "\n",
    "print lonlon.shape\n",
    "print latlat.shape"
   ]
  },
  {
   "cell_type": "code",
   "execution_count": null,
   "metadata": {
    "collapsed": false
   },
   "outputs": [],
   "source": [
    "plt.figure(figsize=(15, 8))\n",
    "\n",
    "m = Basemap(llcrnrlon=0,llcrnrlat=-80,urcrnrlon=360,urcrnrlat=80,projection='kav7', lon_0=0)\n",
    "# xi, yi = m(lonlon, latlat)\n",
    "\n",
    "# xi, yi = m(lons, lats)\n",
    "\n",
    "# print lats\n",
    "\n",
    "print lons.shape\n",
    "print lats.shape\n",
    "# print xi.shape\n",
    "# print yi.shape\n",
    "print precipitation.shape\n",
    "\n",
    "oo, aa = np.meshgrid(lons, lats)\n",
    "poo, paa = m(oo, aa)\n",
    "\n",
    "print poo.shape\n",
    "print paa.shape\n",
    "\n",
    "# cs = m.pcolor(lons, lats, precipitation, latlon=True)\n",
    "\n",
    "cs = m.pcolor(poo, paa, precipitation)\n",
    "\n",
    "# cs = m.scatter(xi, yi, marker='.', c=precipitation, alpha=1.0, lw=0)\n",
    "\n",
    "# Add Grid Lines\n",
    "m.drawparallels(np.arange(-80., 81., 10.), labels=[1,0,0,0], fontsize=10)\n",
    "m.drawmeridians(np.arange(-180., 181., 10.), labels=[0,0,0,1], fontsize=10)\n",
    "\n",
    "m.drawcoastlines()\n",
    "\n",
    "# Add Colorbar\n",
    "cbar = m.colorbar(cs, location='bottom', pad=\"10%\")\n",
    "# cbar.set_label(tmax_units)\n",
    "\n",
    "# Add Title\n",
    "plt.title('precipitation')\n",
    "\n",
    "plt.show()\n"
   ]
  }
 ],
 "metadata": {
  "kernelspec": {
   "display_name": "Python 2",
   "language": "python",
   "name": "python2"
  },
  "language_info": {
   "codemirror_mode": {
    "name": "ipython",
    "version": 2
   },
   "file_extension": ".py",
   "mimetype": "text/x-python",
   "name": "python",
   "nbconvert_exporter": "python",
   "pygments_lexer": "ipython2",
   "version": "2.7.11"
  }
 },
 "nbformat": 4,
 "nbformat_minor": 1
}
