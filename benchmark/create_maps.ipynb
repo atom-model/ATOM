{
 "cells": [
  {
   "cell_type": "markdown",
   "metadata": {},
   "source": [
    "#### create all the maps in folder \"atm_maps\" and \"hyd_maps\"¶"
   ]
  },
  {
   "cell_type": "code",
   "execution_count": 2,
   "metadata": {},
   "outputs": [
    {
     "name": "stdout",
     "output_type": "stream",
     "text": [
      "Delete the existing /home/mchin/workspaces/ATOM/mchin/benchmark/output/atm_maps\n",
      "Create a new /home/mchin/workspaces/ATOM/mchin/benchmark/output/atm_maps\n",
      "\n",
      "./output/atm_maps/temperature/0_Ma_temperature.png has been saved!\n",
      "./output/atm_maps/v_velocity/0_Ma_v_velocity.png has been saved!\n",
      "./output/atm_maps/w_velocity/0_Ma_w_velocity.png has been saved!\n",
      "./output/atm_maps/water_vapour/0_Ma_water_vapour.png has been saved!\n",
      "./output/atm_maps/precipitation/0_Ma_precipitation.png has been saved!\n",
      "./output/atm_maps/precipitable_water/0_Ma_precipitable_water.png has been saved!\n",
      "./output/atm_maps/topography//0Ma_topography.png has been saved!\n",
      "./output/atm_maps/velocity//0Ma_velocity.png has been saved!\n",
      "The data being used to create the maps are in /home/mchin/workspaces/ATOM/mchin/benchmark/output\n",
      "The paleo-topography dir is: /home/mchin/workspaces/ATOM/mchin/data/topo_grids\n",
      "The paleo-topography file suffix is: smooth\n",
      "The start time is: 0\n",
      "The end time is: 1\n",
      "The time step is: 5\n",
      "The output dir is: /home/mchin/workspaces/ATOM/mchin/benchmark/output/atm_maps\n",
      "Creating atm maps complete!\n",
      "Delete the existing /home/mchin/workspaces/ATOM/mchin/benchmark/output/hyd_maps\n",
      "Create a new /home/mchin/workspaces/ATOM/mchin/benchmark/output/hyd_maps\n",
      "\n",
      "./output/hyd_maps/temperature/0_Ma_temperature.png has been saved!\n",
      "./output/hyd_maps/v_velocity/0_Ma_v_velocity.png has been saved!\n",
      "./output/hyd_maps/w_velocity/0_Ma_w_velocity.png has been saved!\n",
      "./output/hyd_maps/salinity/0_Ma_salinity.png has been saved!\n",
      "./output/hyd_maps/bottom_water/0_Ma_bottom_water.png has been saved!\n",
      "./output/hyd_maps/upwelling/0_Ma_upwelling.png has been saved!\n",
      "./output/hyd_maps/downwelling/0_Ma_downwelling.png has been saved!\n",
      "./output/hyd_maps/velocity//0Ma_velocity.png has been saved!\n",
      "The data being used to create the maps are in /home/mchin/workspaces/ATOM/mchin/benchmark/output\n",
      "The paleo-topography dir is: /home/mchin/workspaces/ATOM/mchin/data/topo_grids\n",
      "The paleo-topography file suffix is: smooth\n",
      "The start time is: 0\n",
      "The end time is: 1\n",
      "The time step is: 5\n",
      "The output dir is: /home/mchin/workspaces/ATOM/mchin/benchmark/output/hyd_maps\n",
      "Creating hyd maps complete!\n"
     ]
    }
   ],
   "source": [
    "import sys\n",
    "sys.path.append('../reconstruction')\n",
    "sys.path.append('../utils')\n",
    "import create_atm_maps, create_hyd_maps\n",
    "\n",
    "start_time = 0\n",
    "end_time = 1\n",
    "time_step = 5\n",
    "\n",
    "try:\n",
    "    topo_dir = '../data/topo_grids/'\n",
    "    topo_suffix = 'smooth'\n",
    "    atm_map_output_dir = './output/atm_maps'\n",
    "    hyd_map_output_dir = './output/hyd_maps'\n",
    "\n",
    "    atm_sub_dirs = ['temperature','v_velocity','w_velocity', 'water_vapour', 'precipitation', \n",
    "                'precipitable_water', 'topography', 'velocity']\n",
    "\n",
    "    create_atm_maps.create_all_maps(atm_sub_dirs, start_time, end_time, time_step, atm_map_output_dir, \n",
    "            './output', topo_dir, topo_suffix)\n",
    "\n",
    "    hyd_sub_dirs = ['temperature','v_velocity','w_velocity', 'salinity', 'bottom_water', \n",
    "            'upwelling', 'downwelling', 'velocity']\n",
    "    \n",
    "    create_hyd_maps.create_all_maps(hyd_sub_dirs, start_time, end_time, time_step, hyd_map_output_dir,\n",
    "            './output', topo_dir, topo_suffix)\n",
    "except:\n",
    "    import traceback\n",
    "    traceback.print_exc() \n"
   ]
  },
  {
   "cell_type": "code",
   "execution_count": null,
   "metadata": {},
   "outputs": [],
   "source": []
  }
 ],
 "metadata": {
  "kernelspec": {
   "display_name": "Python 2",
   "language": "python",
   "name": "python2"
  },
  "language_info": {
   "codemirror_mode": {
    "name": "ipython",
    "version": 2
   },
   "file_extension": ".py",
   "mimetype": "text/x-python",
   "name": "python",
   "nbconvert_exporter": "python",
   "pygments_lexer": "ipython2",
   "version": "2.7.12"
  }
 },
 "nbformat": 4,
 "nbformat_minor": 2
}
