{
 "cells": [
  {
   "cell_type": "markdown",
   "metadata": {},
   "source": [
    "#### create all the maps in folder \"atm_maps\" and \"hyd_maps\"¶"
   ]
  },
  {
   "cell_type": "code",
   "execution_count": null,
   "metadata": {
    "scrolled": false
   },
   "outputs": [],
   "source": [
    "import sys\n",
    "from GEOS2115_utils import *\n",
    "sys.path.append(ATOM_HOME + 'reconstruction')\n",
    "sys.path.append(ATOM_HOME + 'utils')\n",
    "import create_atm_maps, create_hyd_maps\n",
    "\n",
    "start_time = 0\n",
    "end_time = 40\n",
    "time_step = 10\n",
    "\n",
    "try:\n",
    "    topo_dir = ATOM_HOME + 'data/topo_grids/'\n",
    "    topo_suffix = 'smooth'\n",
    "    atm_map_output_dir = './output/atm_maps'\n",
    "    hyd_map_output_dir = './output/hyd_maps'\n",
    "\n",
    "    atm_sub_dirs = ['temperature','v_velocity','w_velocity', 'water_vapour', 'precipitation', \n",
    "                'precipitable_water', 'topography', 'velocity']\n",
    "\n",
    "    create_atm_maps.create_all_maps(atm_sub_dirs, start_time, end_time, time_step, atm_map_output_dir, \n",
    "            './output', topo_dir, topo_suffix)\n",
    "\n",
    "    hyd_sub_dirs = ['temperature','v_velocity','w_velocity', 'salinity', 'bottom_water', \n",
    "            'upwelling', 'downwelling', 'velocity']\n",
    "    \n",
    "    create_hyd_maps.create_all_maps(hyd_sub_dirs, start_time, end_time, time_step, hyd_map_output_dir,\n",
    "            './output', topo_dir, topo_suffix)\n",
    "except:\n",
    "    import traceback\n",
    "    traceback.print_exc() \n"
   ]
  }
 ],
 "metadata": {
  "kernelspec": {
   "display_name": "Python 2",
   "language": "python",
   "name": "python2"
  },
  "language_info": {
   "codemirror_mode": {
    "name": "ipython",
    "version": 2
   },
   "file_extension": ".py",
   "mimetype": "text/x-python",
   "name": "python",
   "nbconvert_exporter": "python",
   "pygments_lexer": "ipython2",
   "version": "2.7.12"
  }
 },
 "nbformat": 4,
 "nbformat_minor": 2
}
