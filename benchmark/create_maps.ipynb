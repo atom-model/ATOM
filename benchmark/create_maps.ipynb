{
 "cells": [
  {
   "cell_type": "markdown",
   "metadata": {},
   "source": [
    "#### create all the maps in folder \"atm_maps\" and \"hyd_maps\"¶"
   ]
  },
  {
   "cell_type": "code",
   "execution_count": null,
   "metadata": {},
   "outputs": [],
   "source": [
    "import sys\n",
    "sys.path.append('../reconstruction')\n",
    "sys.path.append('../utils')\n",
    "import create_atm_maps, create_hyd_maps\n",
    "\n",
    "start_time = 0\n",
    "end_time = 30\n",
    "time_step = 5\n",
    "\n",
    "try:\n",
    "    topo_dir = '../data/topo_grids/'\n",
    "    topo_suffix = 'smooth'\n",
    "    atm_map_output_dir = './atm_maps'\n",
    "    hyd_map_output_dir = './hyd_maps'\n",
    "\n",
    "    atm_sub_dirs = ['temperature','v_velocity','w_velocity', 'water_vapour', 'precipitation', \n",
    "                'precipitable_water', 'topography', 'velocity']\n",
    "\n",
    "    create_atm_maps.create_all_maps(atm_sub_dirs, start_time, end_time, time_step, atm_map_output_dir, \n",
    "            './output', topo_dir, topo_suffix)\n",
    "\n",
    "    hyd_sub_dirs = ['temperature','v_velocity','w_velocity', 'salinity', 'bottom_water', \n",
    "            'upwelling', 'downwelling', 'velocity']\n",
    "    \n",
    "    create_hyd_maps.create_all_maps(hyd_sub_dirs, start_time, end_time, time_step, hyd_map_output_dir,\n",
    "            './output', topo_dir, topo_suffix)\n",
    "except:\n",
    "    import traceback\n",
    "    traceback.print_exc() \n"
   ]
  },
  {
   "cell_type": "code",
   "execution_count": null,
   "metadata": {},
   "outputs": [],
   "source": []
  }
 ],
 "metadata": {
  "kernelspec": {
   "display_name": "Python 2",
   "language": "python",
   "name": "python2"
  },
  "language_info": {
   "codemirror_mode": {
    "name": "ipython",
    "version": 2
   },
   "file_extension": ".py",
   "mimetype": "text/x-python",
   "name": "python",
   "nbconvert_exporter": "python",
   "pygments_lexer": "ipython2",
   "version": "2.7.12"
  }
 },
 "nbformat": 4,
 "nbformat_minor": 2
}
