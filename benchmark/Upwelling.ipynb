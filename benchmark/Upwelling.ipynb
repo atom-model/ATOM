{
 "cells": [
  {
   "cell_type": "code",
   "execution_count": null,
   "metadata": {},
   "outputs": [],
   "source": [
    "import os\n",
    "import numpy as np\n",
    "from pyatom import Model, Atmosphere, Hydrosphere\n",
    "\n",
    "model = Model()\n",
    "times=range(0,150,10)\n",
    "\n",
    "for t in range(len(times)):\n",
    "    time = times[t]\n",
    "    print time\n",
    "    model.run_hyd( time, './output/', './config_hyd.xml' )"
   ]
  },
  {
   "cell_type": "code",
   "execution_count": null,
   "metadata": {},
   "outputs": [],
   "source": [
    "import matplotlib.pyplot as plt\n",
    "from mpl_toolkits.basemap import Basemap\n",
    "import numpy as np\n",
    "\n",
    "data = np.genfromtxt('./output/[20Ma_Golonka.xyz]_PlotData_Hyd.xyz',skip_header=1)\n",
    "for d in data:\n",
    "    d[1]=90-d[1]\n",
    "x = data[:,0]\n",
    "y = data[:,1]\n",
    "z = data[:,8]\n",
    "\n",
    "plt.figure(figsize=(15, 8))\n",
    "\n",
    "m = Basemap(llcrnrlon=-180,llcrnrlat=-90,urcrnrlon=180,urcrnrlat=90,projection='kav7', lon_0=0)    \n",
    "xi, yi = m(x, y)\n",
    "cs = m.scatter(xi, yi, marker='.', c=z, alpha=0.5, lw=0)\n",
    "\n",
    "m.drawparallels(np.arange(-90., 90., 10.), labels=[1,0,0,0], fontsize=10)\n",
    "m.drawmeridians(np.arange(-180., 180., 45.), labels=[0,0,0,1], fontsize=10)\n",
    "#m.drawcoastlines()   \n",
    "\n",
    "cbar = m.colorbar(cs, location='bottom', pad=\"10%\")\n",
    "plt.title(\"upwelling\")\n",
    "plt.show()"
   ]
  },
  {
   "cell_type": "code",
   "execution_count": null,
   "metadata": {},
   "outputs": [],
   "source": []
  }
 ],
 "metadata": {
  "kernelspec": {
   "display_name": "Python 2",
   "language": "python",
   "name": "python2"
  },
  "language_info": {
   "codemirror_mode": {
    "name": "ipython",
    "version": 2
   },
   "file_extension": ".py",
   "mimetype": "text/x-python",
   "name": "python",
   "nbconvert_exporter": "python",
   "pygments_lexer": "ipython2",
   "version": "2.7.12"
  }
 },
 "nbformat": 4,
 "nbformat_minor": 2
}
