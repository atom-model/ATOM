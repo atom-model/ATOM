{
 "cells": [
  {
   "cell_type": "code",
   "execution_count": null,
   "metadata": {},
   "outputs": [],
   "source": [
    "import os\n",
    "import numpy as np\n",
    "from pyatom import Model, Atmosphere, Hydrosphere\n",
    "\n",
    "model = Model()\n",
    "times=range(0,150,10)\n",
    "\n",
    "for t in range(len(times)):\n",
    "    time = times[t]\n",
    "    print time\n",
    "    model.run_hyd( time, './output/', './config_hyd.xml' )"
   ]
  },
  {
   "cell_type": "code",
   "execution_count": 1,
   "metadata": {},
   "outputs": [
    {
     "name": "stdout",
     "output_type": "stream",
     "text": [
      "0Ma_upwelling.png has been saved!\n",
      "10Ma_upwelling.png has been saved!\n",
      "20Ma_upwelling.png has been saved!\n",
      "30Ma_upwelling.png has been saved!\n",
      "40Ma_upwelling.png has been saved!\n",
      "50Ma_upwelling.png has been saved!\n",
      "60Ma_upwelling.png has been saved!\n",
      "70Ma_upwelling.png has been saved!\n",
      "80Ma_upwelling.png has been saved!\n",
      "90Ma_upwelling.png has been saved!\n",
      "100Ma_upwelling.png has been saved!\n",
      "110Ma_upwelling.png has been saved!\n",
      "120Ma_upwelling.png has been saved!\n",
      "130Ma_upwelling.png has been saved!\n",
      "140Ma_upwelling.png has been saved!\n"
     ]
    }
   ],
   "source": [
    "import matplotlib.pyplot as plt\n",
    "from mpl_toolkits.basemap import Basemap\n",
    "import numpy as np\n",
    "\n",
    "#time=40\n",
    "for time in range(0,150,10):\n",
    "    data = np.genfromtxt('./output/[{}Ma_Golonka.xyz]_PlotData_Hyd.xyz'.format(time),skip_header=1)\n",
    "    for d in data:\n",
    "        d[1]=90-d[1]\n",
    "    x = data[:,0]\n",
    "    y = data[:,1]\n",
    "    z = data[:,8]\n",
    "\n",
    "    topo = data[:,2]\n",
    "\n",
    "    plt.figure(figsize=(15, 8))\n",
    "\n",
    "    m = Basemap(llcrnrlon=-180,llcrnrlat=-90,urcrnrlon=180,urcrnrlat=90,projection='kav7', lon_0=0)  \n",
    "\n",
    "    xx = x\n",
    "    x, topo = m.shiftdata(xx, datain = topo, lon_0=0)\n",
    "    x, z = m.shiftdata(xx, datain = z, lon_0=0)\n",
    "\n",
    "    xi, yi = m(x, y)\n",
    "    cs = m.scatter(xi, yi, marker='.', c=z, alpha=0.5, lw=0)\n",
    "\n",
    "    m.contour( xi.reshape((361,181)), yi.reshape((361,181)), topo.reshape((361,181)),\n",
    "                            colors ='k', linewidths= 0.3 )\n",
    "\n",
    "    m.drawparallels(np.arange(-90., 90., 10.), labels=[1,0,0,0], fontsize=10)\n",
    "    m.drawmeridians(np.arange(-180., 180., 45.), labels=[0,0,0,1], fontsize=10)\n",
    "    #m.drawcoastlines()   \n",
    "\n",
    "    cbar = m.colorbar(cs, location='bottom', pad=\"10%\")\n",
    "    plt.title(\"{}Ma Upwelling\".format(time))\n",
    "    plt.savefig('{}Ma_upwelling.png'.format(time), bbox_inches='tight')\n",
    "    print '{}Ma_upwelling.png has been saved!'.format(time)\n",
    "    #plt.show()\n",
    "    "
   ]
  },
  {
   "cell_type": "code",
   "execution_count": null,
   "metadata": {},
   "outputs": [],
   "source": []
  }
 ],
 "metadata": {
  "kernelspec": {
   "display_name": "Python 2",
   "language": "python",
   "name": "python2"
  },
  "language_info": {
   "codemirror_mode": {
    "name": "ipython",
    "version": 2
   },
   "file_extension": ".py",
   "mimetype": "text/x-python",
   "name": "python",
   "nbconvert_exporter": "python",
   "pygments_lexer": "ipython2",
   "version": "2.7.12"
  }
 },
 "nbformat": 4,
 "nbformat_minor": 2
}
