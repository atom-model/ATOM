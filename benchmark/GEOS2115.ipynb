{
 "cells": [
  {
   "cell_type": "markdown",
   "metadata": {},
   "source": [
    "#### Run this cell first to import libraries and set variables"
   ]
  },
  {
   "cell_type": "code",
   "execution_count": null,
   "metadata": {},
   "outputs": [],
   "source": [
    "%matplotlib inline  \n",
    "from GEOS2115_utils import *\n",
    "\n",
    "#set start time, end time and time step \n",
    "start_time = 0\n",
    "end_time = 40\n",
    "time_step = 10"
   ]
  },
  {
   "cell_type": "markdown",
   "metadata": {},
   "source": [
    "#### Topography Maps"
   ]
  },
  {
   "cell_type": "code",
   "execution_count": null,
   "metadata": {
    "scrolled": false
   },
   "outputs": [],
   "source": [
    "for time in range(start_time, end_time+1, time_step):\n",
    "    draw_topography_map(time)"
   ]
  },
  {
   "cell_type": "markdown",
   "metadata": {},
   "source": [
    "#### Run the model. It will take a while to finish, be patient ..."
   ]
  },
  {
   "cell_type": "code",
   "execution_count": null,
   "metadata": {},
   "outputs": [],
   "source": [
    "atm_velocity_iteration = 2\n",
    "atm_pressure_iteration = 2\n",
    "\n",
    "hyd_velocity_iteration = 2\n",
    "hyd_pressure_iteration = 2\n",
    "\n",
    "run_model(start_time, end_time, time_step, \n",
    "          atm_velocity_iteration, atm_pressure_iteration, \n",
    "          hyd_velocity_iteration, hyd_pressure_iteration)"
   ]
  },
  {
   "cell_type": "markdown",
   "metadata": {},
   "source": [
    "#### Temperature Map"
   ]
  },
  {
   "cell_type": "code",
   "execution_count": null,
   "metadata": {},
   "outputs": [],
   "source": [
    "air_or_ocean = 'air' \n",
    "#air_or_ocean = 'ocean'\n",
    "time = 0\n",
    "\n",
    "draw_NASA_present_day_temperature_map()\n",
    "\n",
    "draw_temperature_map(time, air_or_ocean)\n"
   ]
  },
  {
   "cell_type": "markdown",
   "metadata": {},
   "source": [
    "#### Precipitation Map"
   ]
  },
  {
   "cell_type": "code",
   "execution_count": null,
   "metadata": {},
   "outputs": [],
   "source": [
    "time = 0 \n",
    "\n",
    "draw_NASA_present_day_precipitation_map()\n",
    "\n",
    "draw_precipitation_map(time)"
   ]
  },
  {
   "cell_type": "markdown",
   "metadata": {},
   "source": [
    "#### Surface Wind Velocity Map"
   ]
  },
  {
   "cell_type": "code",
   "execution_count": null,
   "metadata": {},
   "outputs": [],
   "source": [
    "time = 0\n",
    "draw_surfacre_wind_velocity_map(time)"
   ]
  },
  {
   "cell_type": "markdown",
   "metadata": {},
   "source": [
    "#### Ocean Current Velocity Map"
   ]
  },
  {
   "cell_type": "code",
   "execution_count": null,
   "metadata": {},
   "outputs": [],
   "source": [
    "time = 0\n",
    "draw_ocean_current_velocity_map(time)"
   ]
  },
  {
   "cell_type": "markdown",
   "metadata": {},
   "source": [
    "#### Salinity Map"
   ]
  },
  {
   "cell_type": "code",
   "execution_count": null,
   "metadata": {},
   "outputs": [],
   "source": [
    "time = 0\n",
    "\n",
    "draw_salinity_map(time)"
   ]
  },
  {
   "cell_type": "markdown",
   "metadata": {},
   "source": [
    "#### Upwelling Map"
   ]
  },
  {
   "cell_type": "code",
   "execution_count": null,
   "metadata": {},
   "outputs": [],
   "source": [
    "time = 0 \n",
    "\n",
    "draw_upwelling_map(time)"
   ]
  },
  {
   "cell_type": "markdown",
   "metadata": {},
   "source": [
    "#### this cell will draw a line plot to show the temperature change over time at a given location "
   ]
  },
  {
   "cell_type": "code",
   "execution_count": null,
   "metadata": {},
   "outputs": [],
   "source": [
    "lon = 10\n",
    "lat = 35\n",
    "property_name = 'temperature'\n",
    "#property_name = 'precipitation'\n",
    "#property_name = 'air_velocity'\n",
    "#property_name = 'ocean_velocity'\n",
    "\n",
    "draw_plot_through_time(lon, lat, start_time, end_time, time_step)"
   ]
  },
  {
   "cell_type": "markdown",
   "metadata": {},
   "source": [
    "#### xy plots of transects"
   ]
  },
  {
   "cell_type": "code",
   "execution_count": null,
   "metadata": {},
   "outputs": [],
   "source": [
    "time = 0\n",
    "lon = 45\n",
    "property_name = 'temperature'\n",
    "#property_name = 'salinity'\n",
    "#property_name = 'velocity'\n",
    "\n",
    "d = np.fromfile('./output/bin_data/t_{0}_n_0.bin'.format(time),'<f8')\n",
    "\n",
    "d = d.reshape((181, 361))\n",
    "plt.plot(d[:,lon+180])"
   ]
  },
  {
   "cell_type": "code",
   "execution_count": null,
   "metadata": {},
   "outputs": [],
   "source": []
  }
 ],
 "metadata": {
  "kernelspec": {
   "display_name": "Python 2",
   "language": "python",
   "name": "python2"
  },
  "language_info": {
   "codemirror_mode": {
    "name": "ipython",
    "version": 2
   },
   "file_extension": ".py",
   "mimetype": "text/x-python",
   "name": "python",
   "nbconvert_exporter": "python",
   "pygments_lexer": "ipython2",
   "version": "2.7.12"
  }
 },
 "nbformat": 4,
 "nbformat_minor": 2
}
