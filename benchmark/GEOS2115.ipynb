{
 "cells": [
  {
   "cell_type": "markdown",
   "metadata": {},
   "source": [
    "#### Initialization \n",
    "Import libraries and set variables. This code cell must run first. All the code cells below depend on this code cell. The implementation details are inside GEOS2115.py which locates in the same directory with this Jupyter Notebook file."
   ]
  },
  {
   "cell_type": "code",
   "execution_count": null,
   "metadata": {
    "scrolled": true
   },
   "outputs": [],
   "source": [
    "import warnings\n",
    "warnings.filterwarnings('ignore')\n",
    "\n",
    "%matplotlib inline \n",
    "\n",
    "import GEOS2115_cfg\n",
    "#GEOS2115_cfg.ATOM_HOME = '../'\n",
    "#GEOS2115_cfg.ATM_CFG_FILE_NAME = './config_atm.xml'\n",
    "#GEOS2115_cfg.HYD_CFG_FILE_NAME = './config_hyd.xml'\n",
    "\n",
    "from GEOS2115 import *\n",
    "\n",
    "#set start time, end time and time step \n",
    "start_time = 0\n",
    "end_time = 40\n",
    "time_step = 10\n",
    "\n",
    "print('The time steps are ' + str(range(start_time, end_time+1, time_step)))\n"
   ]
  },
  {
   "cell_type": "markdown",
   "metadata": {},
   "source": [
    "#### Topography Maps\n",
    "This code cell draws the topography maps for each time steps. "
   ]
  },
  {
   "cell_type": "code",
   "execution_count": null,
   "metadata": {
    "scrolled": false
   },
   "outputs": [],
   "source": [
    "print(str(len(range(start_time, end_time+1, time_step))) + ' paleotopography maps will be drawn below.')\n",
    "print('The time steps are ' + str(range(start_time, end_time+1, time_step)))\n",
    "\n",
    "for time in range(start_time, end_time+1, time_step):\n",
    "    draw_topography_map(time)\n",
    "    "
   ]
  },
  {
   "cell_type": "markdown",
   "metadata": {},
   "source": [
    "#### Run ATOM Model\n",
    "This code cell runs the ATOM model for each time steps. The output will be saved on hard drive and the following code cells need the output files to visualize and analyse the results. This code cell will take a while to finish, be patient ..."
   ]
  },
  {
   "cell_type": "code",
   "execution_count": null,
   "metadata": {},
   "outputs": [],
   "source": [
    "print('The time steps are ' + str(range(start_time, end_time+1, time_step)))\n",
    "\n",
    "run_model(start_time, end_time, time_step)\n"
   ]
  },
  {
   "cell_type": "markdown",
   "metadata": {},
   "source": [
    "#### Temperature Maps\n",
    "This code cell will draw the present day temperature map from NASA first and then draw the temperature map at a given time. The time must be one of the time steps."
   ]
  },
  {
   "cell_type": "code",
   "execution_count": null,
   "metadata": {},
   "outputs": [],
   "source": [
    "#choose air temperature or ocean temperature\n",
    "air_or_ocean = 'air' \n",
    "#air_or_ocean = 'ocean'\n",
    "\n",
    "time = 0 #The time must be one of the time steps.\n",
    "\n",
    "if time not in range(start_time, end_time+1, time_step):\n",
    "    print('The time steps are ' + str(range(start_time, end_time+1, time_step)))\n",
    "    sys.exit(\"The time must be one of the time steps.\")\n",
    "    \n",
    "draw_NASA_present_day_temperature_map()\n",
    "\n",
    "draw_temperature_map(time, air_or_ocean)\n"
   ]
  },
  {
   "cell_type": "markdown",
   "metadata": {},
   "source": [
    "#### Precipitation Maps\n",
    "This code cell will draw the present day precipitation map from NASA first and then draw the precipitation map at a given time. The time must be one of the time steps."
   ]
  },
  {
   "cell_type": "code",
   "execution_count": null,
   "metadata": {},
   "outputs": [],
   "source": [
    "time = 0 #The time must be one of the time steps.\n",
    "\n",
    "if time not in range(start_time, end_time+1, time_step):\n",
    "    print('The time steps are ' + str(range(start_time, end_time+1, time_step)))\n",
    "    sys.exit(\"The time must be one of the time steps.\")\n",
    "\n",
    "draw_NASA_present_day_precipitation_map()\n",
    "\n",
    "draw_precipitation_map(time)\n"
   ]
  },
  {
   "cell_type": "markdown",
   "metadata": {},
   "source": [
    "#### Surface Wind Velocity Map\n",
    "This code cell draws surface wind velocity in a map. "
   ]
  },
  {
   "cell_type": "code",
   "execution_count": null,
   "metadata": {},
   "outputs": [],
   "source": [
    "time = 0 #The time must be one of the time steps.\n",
    "\n",
    "if time not in range(start_time, end_time+1, time_step):\n",
    "    print('The time steps are ' + str(range(start_time, end_time+1, time_step)))\n",
    "    sys.exit(\"The time must be one of the time steps.\")\n",
    "\n",
    "draw_surfacre_wind_velocity_map(time)\n"
   ]
  },
  {
   "cell_type": "markdown",
   "metadata": {},
   "source": [
    "#### Ocean Current Velocity Map\n",
    "This code cell draws ocean current  velocity in a map. "
   ]
  },
  {
   "cell_type": "code",
   "execution_count": null,
   "metadata": {},
   "outputs": [],
   "source": [
    "time = 0 #The time must be one of the time steps.\n",
    "\n",
    "if time not in range(start_time, end_time+1, time_step):\n",
    "    print('The time steps are ' + str(range(start_time, end_time+1, time_step)))\n",
    "    sys.exit(\"The time must be one of the time steps.\")\n",
    "\n",
    "draw_ocean_current_velocity_map(time)\n"
   ]
  },
  {
   "cell_type": "markdown",
   "metadata": {},
   "source": [
    "#### Salinity Map\n",
    "This cell will draw the salinity in a map."
   ]
  },
  {
   "cell_type": "code",
   "execution_count": null,
   "metadata": {},
   "outputs": [],
   "source": [
    "time = 0#The time must be one of the time steps.\n",
    "\n",
    "if time not in range(start_time, end_time+1, time_step):\n",
    "    print('The time steps are ' + str(range(start_time, end_time+1, time_step)))\n",
    "    sys.exit(\"The time must be one of the time steps.\")\n",
    "\n",
    "draw_salinity_map(time)\n"
   ]
  },
  {
   "cell_type": "markdown",
   "metadata": {},
   "source": [
    "#### Upwelling Map\n",
    "This cell will draw the upwelling in a map."
   ]
  },
  {
   "cell_type": "code",
   "execution_count": null,
   "metadata": {},
   "outputs": [],
   "source": [
    "time = 0 #The time must be one of the time steps.\n",
    "\n",
    "if time not in range(start_time, end_time+1, time_step):\n",
    "    print('The time steps are ' + str(range(start_time, end_time+1, time_step)))\n",
    "    sys.exit(\"The time must be one of the time steps.\")\n",
    "\n",
    "draw_upwelling_map(time)\n"
   ]
  },
  {
   "cell_type": "markdown",
   "metadata": {},
   "source": [
    "#### Plot Through Time \n",
    "User chooses a location and a property name of interest. This code cell will calculate the paleo-coordinates of this location for each time step and retrieve the property value at the paleo-coordinates. This code cell will draw a plot to show how the property value changes back in time. \n"
   ]
  },
  {
   "cell_type": "code",
   "execution_count": null,
   "metadata": {},
   "outputs": [],
   "source": [
    "lon = 20 #longitude\n",
    "lat = 35 #latitude\n",
    "\n",
    "property_name = 'temperature'\n",
    "#property_name = 'precipitation'\n",
    "#property_name = 'air_velocity'\n",
    "#property_name = 'ocean_velocity'\n",
    "\n",
    "draw_plot_through_time(property_name, lon, lat, start_time, end_time+1, time_step)\n"
   ]
  },
  {
   "cell_type": "markdown",
   "metadata": {},
   "source": [
    "#### Plot of Transect\n",
    "Use chooses a longitude, a time and a property name. This code cell will collect all the property values along the transect which is at the longitude and parallel to Meridian. The plot will show how the property value changes along the transect."
   ]
  },
  {
   "cell_type": "code",
   "execution_count": null,
   "metadata": {},
   "outputs": [],
   "source": [
    "time = 0 #The time must be one of the time steps.\n",
    "lon = 45 #longitude\n",
    "\n",
    "property_name = 'temperature'\n",
    "#property_name = 'ocean_temperature'\n",
    "#property_name = 'salinity'\n",
    "#property_name = 'ocean_velocity'\n",
    "\n",
    "if time not in range(start_time, end_time+1, time_step):\n",
    "    print('The time steps are ' + str(range(start_time, end_time+1, time_step)))\n",
    "    sys.exit(\"The time must be one of the time steps.\")\n",
    "\n",
    "draw_transects(property_name, time, lon)\n"
   ]
  },
  {
   "cell_type": "markdown",
   "metadata": {},
   "source": [
    "#### Ocean Velocity at Depth\n",
    "This code cell will draw the ocean velocity at surface, 50 meters and 100 meters depth."
   ]
  },
  {
   "cell_type": "code",
   "execution_count": null,
   "metadata": {},
   "outputs": [],
   "source": [
    "time = 0 #The time must be one of the time steps.\n",
    "\n",
    "if time not in range(start_time, end_time+1, time_step):\n",
    "    print('The time steps are ' + str(range(start_time, end_time+1, time_step)))\n",
    "    sys.exit(\"The time must be one of the time steps.\")\n",
    "\n",
    "draw_velocity_at_depth(time)\n"
   ]
  },
  {
   "cell_type": "markdown",
   "metadata": {},
   "source": [
    "#### Create All Maps\n",
    "This code cell will create all the maps in the output directory."
   ]
  },
  {
   "cell_type": "code",
   "execution_count": null,
   "metadata": {},
   "outputs": [],
   "source": [
    "import os\n",
    "if os.system('python create_all_maps.py {0} {1} {2} '.format(start_time, end_time, time_step) + ATOM_HOME) == 0:\n",
    "    print('Maps have been created successfully!')\n",
    "else:\n",
    "    print('Something went wrong!')\n",
    "    "
   ]
  }
 ],
 "metadata": {
  "kernelspec": {
   "display_name": "Python 2",
   "language": "python",
   "name": "python2"
  },
  "language_info": {
   "codemirror_mode": {
    "name": "ipython",
    "version": 2
   },
   "file_extension": ".py",
   "mimetype": "text/x-python",
   "name": "python",
   "nbconvert_exporter": "python",
   "pygments_lexer": "ipython2",
   "version": "2.7.12"
  }
 },
 "nbformat": 4,
 "nbformat_minor": 2
}
