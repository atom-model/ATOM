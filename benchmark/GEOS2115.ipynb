{
 "cells": [
  {
   "cell_type": "markdown",
   "metadata": {},
   "source": [
    "#### Run this cell first and it may take a while, be patient ..."
   ]
  },
  {
   "cell_type": "code",
   "execution_count": null,
   "metadata": {
    "scrolled": true
   },
   "outputs": [],
   "source": [
    "import sys\n",
    "sys.path.append('../reconstruction')\n",
    "sys.path.append('../utils')\n",
    "\n",
    "from reconstruct_atom_data import *\n",
    "from pyatom import Atmosphere, Hydrosphere\n",
    "\n",
    "#create the models\n",
    "atm_model = Atmosphere()\n",
    "hyd_model = Hydrosphere()\n",
    "\n",
    "#load configurations\n",
    "atm_model.load_config( './config_atm.xml' )\n",
    "hyd_model.load_config( './config_hyd.xml' )\n",
    "\n",
    "#set start time, end time and time step \n",
    "start_time = 0\n",
    "end_time = 30\n",
    "time_step = 5\n",
    "\n",
    "times = range(start_time, end_time+1, time_step)\n",
    "\n",
    "#run the models\n",
    "BATHYMETRY_SUFFIX = 'Ma_smooth.xyz'\n",
    "for idx, time in enumerate(times):\n",
    "    atm_model.run_time_slice(time)\n",
    "    hyd_model.run_time_slice(time)\n",
    "    if idx<len(times)-1:\n",
    "        reconstruct_temperature(time,times[idx+1], BATHYMETRY_SUFFIX) \n",
    "        reconstruct_precipitation(time,times[idx+1], BATHYMETRY_SUFFIX)\n",
    "        reconstruct_salinity(time,times[idx+1], BATHYMETRY_SUFFIX)\n",
    "\n"
   ]
  },
  {
   "cell_type": "markdown",
   "metadata": {},
   "source": [
    "#### this cell will draw a line plot to show the temperature change over time at a given location "
   ]
  },
  {
   "cell_type": "code",
   "execution_count": null,
   "metadata": {},
   "outputs": [],
   "source": [
    "data=[]\n",
    "\n",
    "height = 0 \n",
    "lon = 100\n",
    "lat = 35\n",
    "\n",
    "for time in range(start_time, end_time+1, time_step):\n",
    "    data.append(atm_model.get_temperature(time, height, lon, lat))  \n",
    "    \n",
    "import matplotlib.pyplot as plt\n",
    "%matplotlib inline \n",
    "plt.plot(range(start_time, end_time+1, time_step), data)\n",
    "plt.ylabel(\"Temperature (Celsius)\")\n",
    "plt.xlabel(\"Time (millon years)\")\n",
    "plt.show()"
   ]
  },
  {
   "cell_type": "markdown",
   "metadata": {},
   "source": [
    "#### this cell draw a temperature map at a given time"
   ]
  },
  {
   "cell_type": "code",
   "execution_count": null,
   "metadata": {},
   "outputs": [],
   "source": [
    "import matplotlib.pyplot as plt\n",
    "from mpl_toolkits.basemap import Basemap\n",
    "import numpy as np\n",
    "\n",
    "data=[]\n",
    "time = 0\n",
    "height = 0\n",
    "\n",
    "for lat in range(-90,91):\n",
    "    tmp=[]\n",
    "    for lon in range(-180,181):\n",
    "        tmp.append(atm_model.get_temperature(time, height, lon, lat))\n",
    "    data.append(tmp)\n",
    "    \n",
    "\n",
    "plt.figure(figsize=(15, 8))\n",
    "\n",
    "m = Basemap(llcrnrlon=-180,llcrnrlat=-90,urcrnrlon=180,urcrnrlat=90,projection='kav7', lon_0=0)\n",
    "\n",
    "z=np.array(data)\n",
    "zz = z.reshape((181, 361))\n",
    "\n",
    "img_data = m.transform_scalar(zz, np.arange(-180,180),np.arange(-90,90),361,181)\n",
    "cs = m.imshow(img_data,alpha=0.5, vmin=-60, vmax=40, cmap='jet')\n",
    "\n",
    "\n",
    "m.drawparallels(np.arange(-90., 90., 10.), labels=[1,0,0,0], fontsize=10)\n",
    "m.drawmeridians(np.arange(-180., 180., 45.), labels=[0,0,0,1], fontsize=10)\n",
    "\n",
    "plt.show()"
   ]
  },
  {
   "cell_type": "markdown",
   "metadata": {},
   "source": [
    "#### this cell will create all the maps in folder \"atm_maps\" and \"hyd_maps\"\n",
    "#### this cell maybe generate some warnings, but normally it is safe to proceed"
   ]
  },
  {
   "cell_type": "code",
   "execution_count": null,
   "metadata": {},
   "outputs": [],
   "source": [
    "import sys\n",
    "sys.path.append('../reconstruction')\n",
    "sys.path.append('../utils')\n",
    "import create_atm_maps, create_hyd_maps\n",
    "\n",
    "try:\n",
    "    topo_dir = '../data/topo_grids/'\n",
    "    topo_suffix = 'smooth'\n",
    "    atm_map_output_dir = './atm_maps'\n",
    "    hyd_map_output_dir = './hyd_maps'\n",
    "\n",
    "    atm_sub_dirs = ['temperature','v_velocity','w_velocity', 'water_vapour', 'precipitation', \n",
    "                'precipitable_water', 'topography', 'velocity']\n",
    "\n",
    "    create_atm_maps.create_all_maps(atm_sub_dirs, start_time, end_time, time_step, atm_map_output_dir, \n",
    "            './output', topo_dir, topo_suffix)\n",
    "\n",
    "    hyd_sub_dirs = ['temperature','v_velocity','w_velocity', 'salinity', 'bottom_water', \n",
    "            'upwelling', 'downwelling', 'velocity']\n",
    "    \n",
    "    create_hyd_maps.create_all_maps(hyd_sub_dirs, start_time, end_time, time_step, hyd_map_output_dir,\n",
    "            './output', topo_dir, topo_suffix)\n",
    "except:\n",
    "    import traceback\n",
    "    traceback.print_exc() \n"
   ]
  },
  {
   "cell_type": "code",
   "execution_count": null,
   "metadata": {},
   "outputs": [],
   "source": []
  }
 ],
 "metadata": {
  "kernelspec": {
   "display_name": "Python 2",
   "language": "python",
   "name": "python2"
  },
  "language_info": {
   "codemirror_mode": {
    "name": "ipython",
    "version": 2
   },
   "file_extension": ".py",
   "mimetype": "text/x-python",
   "name": "python",
   "nbconvert_exporter": "python",
   "pygments_lexer": "ipython2",
   "version": "2.7.12"
  }
 },
 "nbformat": 4,
 "nbformat_minor": 2
}
