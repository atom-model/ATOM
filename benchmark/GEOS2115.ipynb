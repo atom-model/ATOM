{
 "cells": [
  {
   "cell_type": "markdown",
   "metadata": {},
   "source": [
    "#### Draw topography map\n",
    "change \"time\" variable to see topography at certain time"
   ]
  },
  {
   "cell_type": "code",
   "execution_count": null,
   "metadata": {},
   "outputs": [],
   "source": [
    "import os, sys\n",
    "import matplotlib\n",
    "matplotlib.use('Agg')\n",
    "%matplotlib inline  \n",
    "import matplotlib.pyplot as plt\n",
    "from mpl_toolkits.basemap import Basemap\n",
    "import numpy as np\n",
    "\n",
    "time = 0 #change this number to draw topography at certain time\n",
    "\n",
    "#the location and naming convention of topography files\n",
    "topo_suffix = 'smooth'\n",
    "topo_dir = '../data/topo_grids/'\n",
    "\n",
    "#read in data\n",
    "data = np.genfromtxt(topo_dir + '/{0}Ma_{1}.xyz'.format(time, topo_suffix))\n",
    "x = data[:,0]\n",
    "y = data[:,1]\n",
    "z = data[:,2]\n",
    "\n",
    "#initialize figure and basemap\n",
    "plt.figure(figsize=(15, 8))\n",
    "m = Basemap(llcrnrlon=-180,llcrnrlat=-90,urcrnrlon=180,urcrnrlat=90,projection='kav7', lon_0=0)\n",
    "xi, yi = m(x, y)\n",
    "v_min = -5000\n",
    "v_max = 5000\n",
    "\n",
    "#reorder the data so that it can be used in imshow\n",
    "zz = z.reshape((181, 361))\n",
    "zz = np.flipud(zz)\n",
    "\n",
    "#intopolate data and draw map\n",
    "img_data = m.transform_scalar(zz, np.arange(-180,180),np.arange(-90,90),361,181)\n",
    "cs = m.imshow(img_data, alpha=0.5, vmin=v_min, vmax=v_max, cmap='terrain')\n",
    "\n",
    "#draw meridians and parallels\n",
    "m.drawparallels(np.arange(-90., 90., 10.), labels=[1,0,0,0], fontsize=10)\n",
    "m.drawmeridians(np.arange(-180., 180., 45.), labels=[0,0,0,1], fontsize=10)\n",
    "\n",
    "#draw colour bar and title\n",
    "cbar = m.colorbar(cs, location='bottom', pad=\"10%\", label='Topography (m)')\n",
    "plt.title(\"{1} at {0} Ma\".format(time, 'Topography'))\n",
    "\n",
    "plt.show()\n"
   ]
  },
  {
   "cell_type": "markdown",
   "metadata": {},
   "source": [
    "#### this cell may take a while to finish, be patient ..."
   ]
  },
  {
   "cell_type": "code",
   "execution_count": null,
   "metadata": {
    "scrolled": true
   },
   "outputs": [],
   "source": [
    "import sys\n",
    "sys.path.append('../reconstruction')\n",
    "sys.path.append('../utils')\n",
    "\n",
    "from reconstruct_atom_data import *\n",
    "from pyatom import Atmosphere, Hydrosphere\n",
    "\n",
    "#create the models\n",
    "atm_model = Atmosphere()\n",
    "hyd_model = Hydrosphere()\n",
    "\n",
    "#load configurations\n",
    "atm_model.load_config( './config_atm.xml' )\n",
    "hyd_model.load_config( './config_hyd.xml' )\n",
    "\n",
    "#set start time, end time and time step \n",
    "start_time = 0\n",
    "end_time = 6\n",
    "time_step = 5\n",
    "\n",
    "times = range(start_time, end_time+1, time_step)\n",
    "\n",
    "#run the models\n",
    "BATHYMETRY_SUFFIX = 'Ma_smooth.xyz'\n",
    "for idx, time in enumerate(times):\n",
    "    atm_model.run_time_slice(time)\n",
    "    hyd_model.run_time_slice(time)\n",
    "    if idx<len(times)-1:\n",
    "        reconstruct_temperature(time,times[idx+1], BATHYMETRY_SUFFIX) \n",
    "        reconstruct_precipitation(time,times[idx+1], BATHYMETRY_SUFFIX)\n",
    "        reconstruct_salinity(time,times[idx+1], BATHYMETRY_SUFFIX)\n",
    "\n"
   ]
  },
  {
   "cell_type": "markdown",
   "metadata": {},
   "source": [
    "#### this cell will draw a line plot to show the temperature change over time at a given location "
   ]
  },
  {
   "cell_type": "code",
   "execution_count": null,
   "metadata": {},
   "outputs": [],
   "source": [
    "height = 0 \n",
    "lon = 100\n",
    "lat = 35\n",
    "\n",
    "import pygplates\n",
    "rotation_dir = '../reconstruction/data'\n",
    "rotation_model = pygplates.RotationModel(\n",
    "        rotation_dir + '/Rotations/Global_EarthByte_230-0Ma_GK07_AREPS.rot' )\n",
    "static_polygon_features = pygplates.FeatureCollection(\n",
    "        rotation_dir + '/ContinentalPolygons/Matthews_etal_GPC_2016_ContinentalPolygons.gpmlz' )\n",
    "\n",
    "point_feature = pygplates.Feature()\n",
    "point_feature.set_geometry(pygplates.PointOnSphere(float(lat),float(lon)))\n",
    "    \n",
    "assigned_point_feature = pygplates.partition_into_plates(\n",
    "        static_polygon_features,\n",
    "        rotation_model,\n",
    "        point_feature,\n",
    "        properties_to_copy = [\n",
    "            pygplates.PartitionProperty.reconstruction_plate_id,\n",
    "            pygplates.PartitionProperty.valid_time_period],\n",
    "        )\n",
    "\n",
    "data=[]\n",
    "for time in range(start_time, end_time+1, time_step):\n",
    "    pygplates.reconstruct(\n",
    "            assigned_point_feature,\n",
    "            rotation_model,\n",
    "            reconstructed_feature_geometries,\n",
    "            float(time),\n",
    "            anchor_plate_id=0)\n",
    "    if reconstructed_feature_geometries:\n",
    "        geom =  reconstructed_feature_geometries[0].get_reconstructed_geometry()\n",
    "        p = geom.to_lat_lon_list()[0]\n",
    "        data.append(atm_model.get_temperature(time, height, p[1], p[0]))  \n",
    "    \n",
    "plt.plot(range(start_time, end_time+1, time_step), data)\n",
    "plt.ylabel(\"Temperature (Celsius)\")\n",
    "plt.xlabel(\"Time (millon years)\")\n",
    "plt.show()"
   ]
  },
  {
   "cell_type": "markdown",
   "metadata": {},
   "source": [
    "#### this cell draw a temperature map at a given time"
   ]
  },
  {
   "cell_type": "code",
   "execution_count": null,
   "metadata": {},
   "outputs": [],
   "source": [
    "import matplotlib.pyplot as plt\n",
    "from mpl_toolkits.basemap import Basemap\n",
    "import numpy as np\n",
    "\n",
    "time = 5\n",
    "height = 0\n",
    "\n",
    "data=[]\n",
    "for lat in range(-90,91):\n",
    "    tmp=[]\n",
    "    for lon in range(-180,181):\n",
    "        tmp.append(atm_model.get_temperature(time, height, lon, lat))\n",
    "    data.append(tmp)\n",
    "    \n",
    "plt.figure(figsize=(15, 8))\n",
    "\n",
    "m = Basemap(llcrnrlon=-180,llcrnrlat=-90,urcrnrlon=180,urcrnrlat=90,projection='kav7', lon_0=0)\n",
    "\n",
    "z=np.array(data)\n",
    "zz = z.reshape((181, 361))\n",
    "\n",
    "img_data = m.transform_scalar(zz, np.arange(-180,180),np.arange(-90,90),361,181)\n",
    "cs = m.imshow(img_data,alpha=0.5, vmin=-60, vmax=40, cmap='jet')\n",
    "\n",
    "m.drawparallels(np.arange(-90., 90., 10.), labels=[1,0,0,0], fontsize=10)\n",
    "m.drawmeridians(np.arange(-180., 180., 45.), labels=[0,0,0,1], fontsize=10)\n",
    "\n",
    "#draw colour bar and title\n",
    "cbar = m.colorbar(cs, location='bottom', pad=\"10%\", label='Temperature (Celsius)')\n",
    "plt.title(\"{1} at {0} Ma\".format(time, 'Temperature'))\n",
    "\n",
    "plt.show()"
   ]
  },
  {
   "cell_type": "code",
   "execution_count": null,
   "metadata": {},
   "outputs": [],
   "source": []
  }
 ],
 "metadata": {
  "kernelspec": {
   "display_name": "Python 2",
   "language": "python",
   "name": "python2"
  },
  "language_info": {
   "codemirror_mode": {
    "name": "ipython",
    "version": 2
   },
   "file_extension": ".py",
   "mimetype": "text/x-python",
   "name": "python",
   "nbconvert_exporter": "python",
   "pygments_lexer": "ipython2",
   "version": "2.7.12"
  }
 },
 "nbformat": 4,
 "nbformat_minor": 2
}
