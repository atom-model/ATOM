{
 "cells": [
  {
   "cell_type": "code",
   "execution_count": null,
   "metadata": {},
   "outputs": [],
   "source": [
    "import sys, random\n",
    "sys.path.append('../reconstruction')\n",
    "sys.path.append('../utils')\n",
    "\n",
    "from reconstruct_atom_data import *\n",
    "from pyatom import Atmosphere, Hydrosphere\n",
    "\n",
    "#create the models\n",
    "atm_model = Atmosphere()\n",
    "hyd_model = Hydrosphere()\n",
    "\n",
    "#load configurations\n",
    "atm_model.load_config( './config_atm.xml' )\n",
    "hyd_model.load_config( './config_hyd.xml' )\n",
    "\n",
    "#get start time, end time and time step from configurations\n",
    "start_time = 0\n",
    "end_time = 6\n",
    "time_step = 5\n",
    "\n",
    "times = range(start_time, end_time+1, time_step)\n",
    "\n",
    "#run the models\n",
    "BATHYMETRY_SUFFIX = 'Ma_smooth.xyz'\n",
    "for t in range(len(times)):\n",
    "    time = times[t]\n",
    "    atm_model.run_time_slice(time)\n",
    "    hyd_model.run_time_slice(time)\n",
    "    if t<len(times)-1:\n",
    "        reconstruct_temperature(time,times[t+1], BATHYMETRY_SUFFIX) \n",
    "        reconstruct_precipitation(time,times[t+1], BATHYMETRY_SUFFIX)\n",
    "        reconstruct_salinity(time,times[t+1], BATHYMETRY_SUFFIX)\n",
    "\n"
   ]
  },
  {
   "cell_type": "code",
   "execution_count": null,
   "metadata": {},
   "outputs": [],
   "source": [
    "import sys\n",
    "sys.path.append('../reconstruction')\n",
    "sys.path.append('../utils')\n",
    "import create_atm_maps, create_hyd_maps\n",
    "\n",
    "start_time = 0\n",
    "end_time = 6\n",
    "time_step = 5\n",
    "\n",
    "import create_atm_maps, create_hyd_maps\n",
    "\n",
    "try:\n",
    "    topo_dir = '../data/topo_grids/'\n",
    "    topo_suffix = 'smooth'\n",
    "    atm_map_output_dir = './atm_maps'\n",
    "    hyd_map_output_dir = './hyd_maps'\n",
    "\n",
    "    # v-velocity(m/s), w-velocity(m/s), velocity-mag(m/s), temperature(Celsius), water_vapour(g/kg), \n",
    "    # precipitation(mm), precipitable water(mm)\n",
    "    atm_sub_dirs = ['temperature','v_velocity','w_velocity', 'water_vapour', 'precipitation', \n",
    "                'precipitable_water', 'topography', 'velocity']\n",
    "\n",
    "    create_atm_maps.create_all_maps(atm_sub_dirs, start_time, end_time, time_step, atm_map_output_dir, \n",
    "            './output', topo_dir, topo_suffix)\n",
    "\n",
    "    hyd_sub_dirs = ['temperature','v_velocity','w_velocity', 'salinity', 'bottom_water', \n",
    "            'upwelling', 'downwelling', 'velocity']\n",
    "    \n",
    "    create_hyd_maps.create_all_maps(hyd_sub_dirs, start_time, end_time, time_step, hyd_map_output_dir,\n",
    "            './output', topo_dir, topo_suffix)\n",
    "except:\n",
    "    import traceback\n",
    "    traceback.print_exc() \n"
   ]
  },
  {
   "cell_type": "code",
   "execution_count": 1,
   "metadata": {},
   "outputs": [
    {
     "name": "stdout",
     "output_type": "stream",
     "text": [
      "[-1.0, -1.0, -1.0, -1.0, -1.0, -1.0, -1.0, -1.0, -1.0, -1.0]\n"
     ]
    }
   ],
   "source": [
    "import sys\n",
    "sys.path.append('../reconstruction')\n",
    "sys.path.append('../utils')\n",
    "\n",
    "from pyatom import Atmosphere, Hydrosphere\n",
    "\n",
    "#create the models\n",
    "atm_model = Atmosphere()\n",
    "\n",
    "print(atm_model.get_temperature_data(0))"
   ]
  },
  {
   "cell_type": "code",
   "execution_count": null,
   "metadata": {},
   "outputs": [],
   "source": []
  }
 ],
 "metadata": {
  "kernelspec": {
   "display_name": "Python 2",
   "language": "python",
   "name": "python2"
  },
  "language_info": {
   "codemirror_mode": {
    "name": "ipython",
    "version": 2
   },
   "file_extension": ".py",
   "mimetype": "text/x-python",
   "name": "python",
   "nbconvert_exporter": "python",
   "pygments_lexer": "ipython2",
   "version": "2.7.12"
  }
 },
 "nbformat": 4,
 "nbformat_minor": 2
}
