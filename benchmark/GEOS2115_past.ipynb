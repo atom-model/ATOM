{
 "cells": [
  {
   "cell_type": "markdown",
   "metadata": {},
   "source": [
    "#### Initialization \n",
    "Import libraries and set variables. This code cell must run first. All the code cells below depend on this code cell. The implementation details are inside GEOS2115.py which locates in the same directory with this Jupyter Notebook file."
   ]
  },
  {
   "cell_type": "code",
   "execution_count": null,
   "metadata": {
    "scrolled": true
   },
   "outputs": [],
   "source": [
    "import warnings\n",
    "warnings.filterwarnings('ignore')\n",
    "\n",
    "%matplotlib inline \n",
    "\n",
    "import GEOS2115_cfg\n",
    "#do not change the following commented-out lines unless you are told to change them.\n",
    "#GEOS2115_cfg.ATOM_HOME = '../'\n",
    "#GEOS2115_cfg.OUTPUT_DIR = './output/' #the location of atom output files\n",
    "\n",
    "from GEOS2115 import *\n",
    "\n",
    "time = 10\n",
    "\n",
    "time_steps = range(GEOS2115_cfg.start_time, GEOS2115_cfg.end_time+1, GEOS2115_cfg.time_step)\n",
    "if time not in time_steps:\n",
    "    print('The time steps are ' + str(time_steps))\n",
    "    sys.exit(\"The time must be one of the time steps.\")\n"
   ]
  },
  {
   "cell_type": "markdown",
   "metadata": {},
   "source": [
    "#### Topography Maps\n",
    "This code cell draws the topography maps at given time. "
   ]
  },
  {
   "cell_type": "code",
   "execution_count": null,
   "metadata": {
    "scrolled": false
   },
   "outputs": [],
   "source": [
    "\n",
    "draw_topography_map(time)\n",
    "    "
   ]
  },
  {
   "cell_type": "markdown",
   "metadata": {},
   "source": [
    "#### Temperature Map\n",
    "This code cell will draw the temperature map at a given time. "
   ]
  },
  {
   "cell_type": "code",
   "execution_count": null,
   "metadata": {},
   "outputs": [],
   "source": [
    "#choose air temperature or ocean temperature\n",
    "air_or_ocean = 'air' \n",
    "#air_or_ocean = 'ocean'\n",
    "\n",
    "#time = 20 #you may try to change the time here.\n",
    "draw_temperature_map(time, air_or_ocean)\n"
   ]
  },
  {
   "cell_type": "markdown",
   "metadata": {},
   "source": [
    "#### Precipitation Map\n",
    "This code cell will draw the precipitation map at a given time. "
   ]
  },
  {
   "cell_type": "code",
   "execution_count": null,
   "metadata": {},
   "outputs": [],
   "source": [
    "\n",
    "draw_precipitation_map(time)\n"
   ]
  },
  {
   "cell_type": "markdown",
   "metadata": {},
   "source": [
    "#### Surface Wind and Ocean Current Velocity Maps\n",
    "This code cell draws surface wind and ocean current velocities in a map. "
   ]
  },
  {
   "cell_type": "code",
   "execution_count": null,
   "metadata": {},
   "outputs": [],
   "source": [
    "\n",
    "draw_surfacre_wind_velocity_map(time)\n",
    "    \n",
    "draw_ocean_current_velocity_map(time)\n"
   ]
  },
  {
   "cell_type": "markdown",
   "metadata": {},
   "source": [
    "#### Salinity Map\n",
    "This cell will draw the salinity map at a given time."
   ]
  },
  {
   "cell_type": "code",
   "execution_count": null,
   "metadata": {},
   "outputs": [],
   "source": [
    "\n",
    "draw_salinity_map(time)\n"
   ]
  },
  {
   "cell_type": "markdown",
   "metadata": {},
   "source": [
    "#### Plot Through Time \n",
    "User chooses a location and a property name of interest. This code cell will calculate the paleo-coordinates of this location for each time step and retrieve the property value at the paleo-coordinates. This code cell will draw a plot to show how the property value changes back in time. \n"
   ]
  },
  {
   "cell_type": "code",
   "execution_count": null,
   "metadata": {},
   "outputs": [],
   "source": [
    "lon = 20 #longitude\n",
    "lat = 35 #latitude\n",
    "\n",
    "property_name = 'temperature'\n",
    "#property_name = 'precipitation'\n",
    "#property_name = 'air_velocity'\n",
    "#property_name = 'ocean_velocity'\n",
    "\n",
    "draw_plot_through_time(property_name, lon, lat, \n",
    "                       GEOS2115_cfg.start_time, GEOS2115_cfg.end_time+1, GEOS2115_cfg.time_step)\n"
   ]
  },
  {
   "cell_type": "markdown",
   "metadata": {},
   "source": [
    "#### Plot of Transect\n",
    "User chooses a longitude, a time and a property name. This code cell will collect all the property values along the transect which is at the longitude and parallel to Meridian. The plot will show how the property value changes along the transect."
   ]
  },
  {
   "cell_type": "code",
   "execution_count": null,
   "metadata": {},
   "outputs": [],
   "source": [
    "\n",
    "lon = 45 #longitude\n",
    "\n",
    "property_name = 'temperature'\n",
    "#property_name = 'ocean_temperature'\n",
    "#property_name = 'salinity'\n",
    "#property_name = 'ocean_velocity'\n",
    "\n",
    "draw_transects(property_name, time, lon)\n"
   ]
  },
  {
   "cell_type": "code",
   "execution_count": null,
   "metadata": {},
   "outputs": [],
   "source": []
  }
 ],
 "metadata": {
  "kernelspec": {
   "display_name": "Python 2",
   "language": "python",
   "name": "python2"
  },
  "language_info": {
   "codemirror_mode": {
    "name": "ipython",
    "version": 2
   },
   "file_extension": ".py",
   "mimetype": "text/x-python",
   "name": "python",
   "nbconvert_exporter": "python",
   "pygments_lexer": "ipython2",
   "version": "2.7.12"
  }
 },
 "nbformat": 4,
 "nbformat_minor": 2
}
