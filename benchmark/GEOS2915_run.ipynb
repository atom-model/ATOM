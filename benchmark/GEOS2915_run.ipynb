{
    "metadata": {
        "kernelspec": {
            "name": "python2",
            "display_name": "Python 2",
            "language": "python"
        }
    },
    "nbformat": 4,
    "nbformat_minor": 2,
    "cells": [
        {
            "attachments": {},
            "cell_type": "markdown",
            "metadata": {},
            "source": [
                "#### Initialization \n",
                "Import libraries and set variables. This code cell must run first. All the code cells below depend on this code cell. The implementation details are inside GEOS2115.py which locates in the same directory with this Jupyter Notebook file."
            ]
        },
        {
            "cell_type": "code",
            "execution_count": 1,
            "metadata": {
                "scrolled": true
            },
            "outputs": [
                {
                    "name": "stdout",
                    "output_type": "stream",
                    "text": "The time steps are [0, 2, 4, 6, 8, 10, 12, 14, 16]\n"
                }
            ],
            "source": [
                "import warnings\n",
                "warnings.filterwarnings('ignore')\n",
                "\n",
                "%matplotlib inline \n",
                "\n",
                "import GEOS2115_cfg\n",
                "#do not change the following commented-out lines unless you are told to change them.\n",
                "#GEOS2115_cfg.ATOM_HOME = '../'\n",
                "#GEOS2115_cfg.ATM_CFG_FILE_NAME = './config_atm.xml'\n",
                "#GEOS2115_cfg.HYD_CFG_FILE_NAME = './config_hyd.xml'\n",
                "GEOS2115_cfg.OUTPUT_DIR = './output/' #the location of atom output files\n",
                "\n",
                "from GEOS2115 import *\n",
                "\n",
                "#set start time, end time and time step \n",
                "start_time = 0\n",
                "end_time = 16\n",
                "time_step = 2\n",
                "\n",
                "print('The time steps are ' + str(range(start_time, end_time+1, time_step)))\n",
                ""
            ]
        },
        {
            "attachments": {},
            "cell_type": "markdown",
            "metadata": {},
            "source": [
                "#### Run ATOM Model\n",
                "This code cell runs the ATOM model for each time steps. The output will be saved on hard drive and the following code cells need the output files to visualize and analyse the results. This code cell will take around **90 minutes**(from 0 to 16Ma with 2My interval) to finish, be patient ...\n",
                "\n",
                "# WARNING: (for the one code cell below only)\n",
                "## Running this code cell will remove all previous output files!\n",
                "## Drag the scroll bar in the output cell to check the progress EVERY 20 MINUTES to prevent edstem.org logging you out due to inactivity. \n",
                "## Besides dragging the scroll bar, Do NOT touch anything else in this workspace while the code cell below is running!!!"
            ]
        },
        {
            "cell_type": "code",
            "execution_count": 0,
            "metadata": {},
            "outputs": [
                {
                    "name": "stdout",
                    "output_type": "stream",
                    "text": "The time steps are [0, 2, 4, 6, 8, 10, 12, 14, 16]\nstart running model\nrunning the model at 0 Ma\n"
                }
            ],
            "source": [
                "print('The time steps are ' + str(range(start_time, end_time+1, time_step)))\n",
                "\n",
                "import os\n",
                "os.system('rm -rf ./output/')#remove the old output folder\n",
                "\n",
                "run_model(start_time, end_time, time_step)\n",
                ""
            ]
        },
        {
            "attachments": {},
            "cell_type": "markdown",
            "metadata": {},
            "source": [
                "#### Create All Maps\n",
                "This code cell will create all the maps in the output directory."
            ]
        },
        {
            "cell_type": "code",
            "execution_count": 0,
            "metadata": {},
            "outputs": [],
            "source": [
                "import os\n",
                "\n",
                "os.system('rm -rf ./output/bin_data/')#remove the debug files. the disk space is not big enough for them.\n",
                "\n",
                "if os.system('python create_all_maps.py {0} {1} {2} {3} {4}'.format(\n",
                "        start_time, end_time, time_step, GEOS2115_cfg.ATOM_HOME, GEOS2115_cfg.OUTPUT_DIR)) == 0:\n",
                "    print('Maps have been created successfully!')\n",
                "else:\n",
                "    print('Something went wrong!')\n",
                "    "
            ]
        },
        {
            "cell_type": "code",
            "execution_count": 0,
            "metadata": {},
            "outputs": [],
            "source": [
                ""
            ]
        }
    ]
}
