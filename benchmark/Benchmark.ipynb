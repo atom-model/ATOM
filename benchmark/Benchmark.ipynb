{
 "cells": [
  {
   "cell_type": "markdown",
   "metadata": {},
   "source": [
    "# Benchmarking\n",
    "\n",
    "We want to compare 14Ma with 0Ma.\n",
    "\n",
    "Generate ATOM's predictions of what the world looks like and compare those with NASA data and ??something else?? to benchmark ATOM."
   ]
  },
  {
   "cell_type": "code",
   "execution_count": null,
   "metadata": {
    "collapsed": false
   },
   "outputs": [],
   "source": [
    "import matplotlib.pyplot as plt\n",
    "from mpl_toolkits.basemap import Basemap\n",
    "import os.path\n",
    "import numpy as np\n",
    "import shutil\n",
    "from pyatom import Model\n",
    "\n",
    "model = Model()\n",
    "model.load_config('benchmark.xml')"
   ]
  },
  {
   "cell_type": "code",
   "execution_count": null,
   "metadata": {
    "collapsed": false
   },
   "outputs": [],
   "source": [
    "rebuild = False\n",
    "if rebuild:\n",
    "    # Run the model for 14Ma and 0Ma\n",
    "    # First, clear output dirs\n",
    "    for dirname in ['output-0', 'output-14']:\n",
    "        try:\n",
    "            shutil.rmtree(dirname)\n",
    "        except OSError:\n",
    "            pass\n",
    "\n",
    "    print dir(model)\n",
    "\n",
    "    print dir(model.atmosphere)\n",
    "\n",
    "    print model.atmosphere.output_path\n",
    "    print model.atmosphere.buoyancy\n",
    "\n",
    "    # FIXME: there needs to be a trailing slash on output_path; the software should be more tolerant\n",
    "    model.run(t=0, output_path='output-0/')\n",
    "    model.run(t=14, output_path='output-14/')\n"
   ]
  },
  {
   "cell_type": "code",
   "execution_count": null,
   "metadata": {
    "collapsed": true
   },
   "outputs": [],
   "source": [
    "def plot_xyz(series, title, lats, lons):\n",
    "    plt.figure(figsize=(15, 8))\n",
    "\n",
    "    m = Basemap(llcrnrlon=0,llcrnrlat=-80,urcrnrlon=360,urcrnrlat=80,projection='kav7', lon_0=0)\n",
    "    xi, yi = m(lons, lats)\n",
    "\n",
    "    cs = m.scatter(xi, yi, marker='.', c=series, alpha=1.0, lw=0)\n",
    "\n",
    "    # Add Grid Lines\n",
    "    m.drawparallels(np.arange(-80., 81., 10.), labels=[1,0,0,0], fontsize=10)\n",
    "    m.drawmeridians(np.arange(-180., 181., 10.), labels=[0,0,0,1], fontsize=10)\n",
    "\n",
    "    m.drawcoastlines()\n",
    "\n",
    "    # Add Colorbar\n",
    "    cbar = m.colorbar(cs, location='bottom', pad=\"10%\")\n",
    "    # cbar.set_label(tmax_units)\n",
    "\n",
    "    # Add Title\n",
    "    plt.title(title)\n",
    "\n",
    "    plt.show()\n"
   ]
  },
  {
   "cell_type": "code",
   "execution_count": null,
   "metadata": {
    "collapsed": false
   },
   "outputs": [],
   "source": [
    "# try it with the XYZ file instead\n",
    "# print os.path.join(datapath, '[%sMa_Golonka.xyz]_PlotData_Atm.xyz' % Ma)\n",
    "Ma = 0\n",
    "datapath = 'output-%s' % Ma\n",
    "\n",
    "atm_header = ['latitude (deg)', 'longitude (deg)', 'v-velocity (m/s)', 'w-velocity (m/s)', 'temperature (celcius)', 'water_vapour (g/kg)', 'precipitation (mm)', 'precipitable_water (mm)']\n",
    "hyd_header = ['latitude (deg)', 'longitude (deg)', 'v-velocity (0.724 * x * m/s)', 'w-velocity (0.724 * x * m/s)', 'temperature (273.15 * x - 273.15)', 'salinity (35 * x * psu)', 'bottom_water', 'upwelling', 'downwelling']\n",
    "\n",
    "adata = np.loadtxt(os.path.join(datapath, '[%sMa_Golonka.xyz]_PlotData_Atm.xyz' % Ma), skiprows=1)\n",
    "hdata = np.loadtxt(os.path.join(datapath, '[%sMa_Golonka.xyz]_PlotData_Hyd.xyz' % Ma), skiprows=1)\n",
    "\n",
    "# np.hsplit(rec, 8)\n",
    "# FIXME: the xyz file says it's lat+lon order, but the range (0-180, 0-360) suggests it's lon/lat. What's the correct answer here?\n",
    "# lats, lons, vvelocity, wvelocity, temperature, water_vapour, precipitation, precipitable_water = np.hsplit(rec, 8)\n",
    "# lons, lats, vvelocity, wvelocity, temperature, water_vapour, precipitation, precipitable_water = np.hsplit(rec, 8)\n",
    "\n"
   ]
  },
  {
   "cell_type": "markdown",
   "metadata": {},
   "source": [
    "# Plot all Atmosphere outputs\n",
    "\n",
    "Just the `xyz` files, anyway. There are hundreds of things we could plot..."
   ]
  },
  {
   "cell_type": "code",
   "execution_count": null,
   "metadata": {
    "collapsed": false
   },
   "outputs": [],
   "source": [
    "# Plot all of Atmosphere outputs\n",
    "\n",
    "# FIXME: ATOM seems to have lat/lon transposed in the xyz file?\n",
    "# we also have a mysterious offset\n",
    "alats = -(adata[:, 1] - 90.)\n",
    "alons = adata[:, 0]\n",
    "\n",
    "\n",
    "\n",
    "for index in range(2, 5):\n",
    "    title = atm_header[index]\n",
    "    plot_xyz(adata[:, index], title, alats, alons)\n",
    "\n"
   ]
  },
  {
   "cell_type": "code",
   "execution_count": null,
   "metadata": {
    "collapsed": false
   },
   "outputs": [],
   "source": [
    "for index in range(5, len(atm_header)):\n",
    "    title = atm_header[index]\n",
    "    plot_xyz(adata[:, index], title, alats, alons)\n",
    "\n"
   ]
  },
  {
   "cell_type": "markdown",
   "metadata": {},
   "source": [
    "# Plot all Hydrosphere outputs\n",
    "\n",
    "Just the `xyz` files."
   ]
  },
  {
   "cell_type": "code",
   "execution_count": null,
   "metadata": {
    "collapsed": false
   },
   "outputs": [],
   "source": [
    "# Plot all of Hydrosphere outputs\n",
    "\n",
    "# NOTE: mysterious transpositions\n",
    "hlats = -(hdata[:, 0] - 90)\n",
    "hlons = hdata[:, 1]\n",
    "\n",
    "for index in range(2, 5):\n",
    "    title = hyd_header[index]\n",
    "    plot_xyz(hdata[:, index], title, hlats, hlons)\n"
   ]
  },
  {
   "cell_type": "code",
   "execution_count": null,
   "metadata": {
    "collapsed": false
   },
   "outputs": [],
   "source": [
    "for index in range(5, 8):\n",
    "    title = hyd_header[index]\n",
    "    plot_xyz(hdata[:, index], title, hlats, hlons)\n"
   ]
  },
  {
   "cell_type": "code",
   "execution_count": null,
   "metadata": {
    "collapsed": false
   },
   "outputs": [],
   "source": [
    "for index in range(8, len(hyd_header)):\n",
    "    title = hyd_header[index]\n",
    "    plot_xyz(hdata[:, index], title, hlats, hlons)\n",
    "\n"
   ]
  },
  {
   "cell_type": "markdown",
   "metadata": {},
   "source": [
    "# Compare surface precipitation"
   ]
  },
  {
   "cell_type": "code",
   "execution_count": null,
   "metadata": {
    "collapsed": false
   },
   "outputs": [],
   "source": [
    "# nsp: NASA Surface Precipitation\n",
    "nsp = np.genfromtxt('../data/SurfacePrecipitation_NASA.xyz')\n",
    "# columns lons, lats, precip\n",
    "\n",
    "plot_xyz(lons=nsp[:, 0], lats=nsp[:, 1], series=nsp[:, 2], title='NASA Surface Precipitation')\n",
    "\n",
    "plot_xyz(adata[:, 6], 'ATOM Precipitation at Ma=%s' % Ma, alats, alons)\n",
    "\n"
   ]
  },
  {
   "cell_type": "markdown",
   "metadata": {},
   "source": [
    "# Compare surface temperature"
   ]
  },
  {
   "cell_type": "code",
   "execution_count": null,
   "metadata": {
    "collapsed": false
   },
   "outputs": [],
   "source": [
    "# st: Surface Temperature\n",
    "# I have no idea where that file comes from\n",
    "st = np.genfromtxt('../data/SurfaceTemperature.xyz')\n",
    "# columns lons, lats, ?\n",
    "\n",
    "plot_xyz(lons=st[:, 0], lats=st[:, 1], series=st[:, 2], title='Surface Temperature')\n",
    "plot_xyz(adata[:, 4], 'ATOM Atmosphere Temperature at Ma=%s' % Ma, alats, alons)\n",
    "plot_xyz(hdata[:, 4], 'ATOM Hydrosphere Temperature at Ma=%s' % Ma, hlats, hlons)\n"
   ]
  },
  {
   "cell_type": "markdown",
   "metadata": {},
   "source": [
    "# Surface Winds benchmarking\n",
    "\n",
    "Reference data comes from https://podaac.jpl.nasa.gov/dataset/QSCAT_L3_SFC_WIND_SPEED_1DEG_1MO\n",
    "     "
   ]
  },
  {
   "cell_type": "code",
   "execution_count": null,
   "metadata": {
    "collapsed": false
   },
   "outputs": [],
   "source": [
    "# load windspeed data\n",
    "from netCDF4 import Dataset\n",
    "root = Dataset('windspeed/sfcWind_QuikSCAT_L2B_v20110531_199908-200910.nc')\n",
    "# print root\n",
    "# print root.dimensions.keys()\n",
    "print root.variables.keys()\n",
    "\n",
    "t = root.variables['time'][-1]  # just take the newest timeslice\n",
    "\n",
    "# NOTE: wind mags vary substantially with time; what time should we be using? or average it all out?\n",
    "\n",
    "swlats = root.variables['lat'][:]\n",
    "swlons = root.variables['lon'][:]\n",
    "swspeed = root.variables['sfcWind'][-1]\n",
    "\n",
    "lonv, latv = np.meshgrid(swlons, swlats)\n",
    "\n",
    "plot_xyz(lats=latv.flatten(), lons=lonv.flatten(), title='Surface Wind QuikSCAT', series=swspeed.flatten())\n",
    "\n",
    "root.close()"
   ]
  },
  {
   "cell_type": "code",
   "execution_count": null,
   "metadata": {
    "collapsed": false
   },
   "outputs": [],
   "source": [
    "# load windspeed data\n",
    "from netCDF4 import Dataset\n",
    "root = Dataset('windspeed/uas_QuikSCAT_L2B_v20110531_199908-200910.nc')\n",
    "print root.variables.keys()\n",
    "\n",
    "t = root.variables['time'][-1]  # just take the newest timeslice\n",
    "\n",
    "# NOTE: wind mags vary substantially with time; what time should we be using? or average it all out?\n",
    "\n",
    "swlats = root.variables['lat'][:]\n",
    "swlons = root.variables['lon'][:]\n",
    "swspeed = root.variables['uas'][-1]\n",
    "\n",
    "lonv, latv = np.meshgrid(swlons, swlats)\n",
    "\n",
    "plot_xyz(lats=latv.flatten(), lons=lonv.flatten(), title='Surface Wind QuikSCAT u-mag', series=swspeed.flatten())\n",
    "\n",
    "root.close()"
   ]
  },
  {
   "cell_type": "code",
   "execution_count": null,
   "metadata": {
    "collapsed": false
   },
   "outputs": [],
   "source": [
    "# load windspeed data\n",
    "from netCDF4 import Dataset\n",
    "root = Dataset('windspeed/vas_QuikSCAT_L2B_v20110531_199908-200910.nc')\n",
    "print root.variables.keys()\n",
    "\n",
    "t = root.variables['time'][-1]  # just take the newest timeslice\n",
    "\n",
    "# NOTE: wind mags vary substantially with time; what time should we be using? or average it all out?\n",
    "\n",
    "swlats = root.variables['lat'][:]\n",
    "swlons = root.variables['lon'][:]\n",
    "swspeed = root.variables['vas'][-1]\n",
    "\n",
    "lonv, latv = np.meshgrid(swlons, swlats)\n",
    "\n",
    "plot_xyz(lats=latv.flatten(), lons=lonv.flatten(), title='Surface Wind QuikSCAT v-mag', series=swspeed.flatten())\n",
    "\n",
    "root.close()"
   ]
  },
  {
   "cell_type": "code",
   "execution_count": null,
   "metadata": {
    "collapsed": false
   },
   "outputs": [],
   "source": [
    "for index in range(2, 4):\n",
    "    title = 'Atmosphere: %s' % atm_header[index]\n",
    "    plot_xyz(adata[:, index], title, alats, alons)\n",
    "\n"
   ]
  },
  {
   "cell_type": "markdown",
   "metadata": {},
   "source": [
    "# Surface Currents\n",
    "\n",
    "Using data from https://podaac.jpl.nasa.gov/dataset/OSCAR_L4_OC_third-deg\n"
   ]
  },
  {
   "cell_type": "code",
   "execution_count": null,
   "metadata": {
    "collapsed": false
   },
   "outputs": [],
   "source": [
    "from netCDF4 import Dataset\n",
    "root = Dataset('oscar/oscar_vel8879.nc')\n",
    "print root.variables.keys()\n",
    "\n",
    "sclats = root.variables['latitude'][:]\n",
    "sclons = root.variables['longitude'][:]\n",
    "u = root.variables['u'][0][0][:]\n",
    "v = root.variables['v'][0][0][:]\n",
    "\n",
    "\n",
    "print sclats.shape \n",
    "print sclons.shape\n",
    "print u.shape\n",
    "print v.shape\n",
    "\n",
    "lonv, latv = np.meshgrid(sclons, sclats)\n",
    "\n",
    "plot_xyz(lats=latv.flatten(), lons=lonv.flatten(), title='OSCAR Surface Currents u-mag', series=np.log(u.flatten()))\n"
   ]
  },
  {
   "cell_type": "code",
   "execution_count": null,
   "metadata": {
    "collapsed": false
   },
   "outputs": [],
   "source": [
    "plot_xyz(lats=latv.flatten(), lons=lonv.flatten(), title='OSCAR Surface Currents v-mag', series=v.flatten())\n",
    "\n",
    "root.close()"
   ]
  },
  {
   "cell_type": "code",
   "execution_count": null,
   "metadata": {
    "collapsed": false
   },
   "outputs": [],
   "source": [
    "# NOTE: mysterious transpositions\n",
    "hlats = -(hdata[:, 0] - 90)\n",
    "hlons = hdata[:, 1]\n",
    "\n",
    "for index in range(2, 4):\n",
    "    title = \"Hydrosphere: %s\" % hyd_header[index]\n",
    "    plot_xyz(hdata[:, index], title, hlats, hlons)\n"
   ]
  }
 ],
 "metadata": {
  "kernelspec": {
   "display_name": "Python 2",
   "language": "python",
   "name": "python2"
  },
  "language_info": {
   "codemirror_mode": {
    "name": "ipython",
    "version": 2
   },
   "file_extension": ".py",
   "mimetype": "text/x-python",
   "name": "python",
   "nbconvert_exporter": "python",
   "pygments_lexer": "ipython2",
   "version": "2.7.11"
  }
 },
 "nbformat": 4,
 "nbformat_minor": 0
}
