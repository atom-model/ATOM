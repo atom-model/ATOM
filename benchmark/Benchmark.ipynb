{
 "cells": [
  {
   "cell_type": "markdown",
   "metadata": {},
   "source": [
    "# Benchmarking\n",
    "\n",
    "ATOM tries to predict the paleo climate in time slices of million years. The atmospheric and the hydrospheric circulations are computed based on the laminar and steady Navier-Stokes equations with additional transport equations for the water vapour, cloud water, cloud ice resulting in precipitation predictions and for the salinity transport. The ocean surface water velocity distribution results from the surface wind velocity distribution of the atmospheric circulations. \n",
    "\n",
    "The code is written for laptop usage, which makes approximations necessary, one of which is the assumption of a laminar and steady flow environment. The application of the 4th order Runge-Kutta solution scheme including immersed boundary conditions and the assumption of a sperical orthogonal coordinate system makes the code fast.\n",
    "\n",
    "ATOM's main fluid dynamical features, Atmosphere and Hydrosphere, are permanently in development. Changements are uploaded to GitHub.\n",
    "\n",
    "This code allows the vizualisation of the results for time slices the user prescribes. For the modern world the results are comparable to NASA measurements.\n"
   ]
  },
  {
   "cell_type": "code",
   "execution_count": null,
   "metadata": {},
   "outputs": [],
   "source": [
    "import sys\n",
    "import matplotlib.pyplot as plt\n",
    "import os.path\n",
    "import numpy as np\n",
    "import shutil\n",
    "import pyatom\n",
    "\n",
    "from mpl_toolkits.basemap import Basemap\n",
    "from pyatom import Model\n",
    "\n",
    "from numpy import linspace\n",
    "from numpy import meshgrid\n",
    "\n",
    "model = Model()\n",
    "\n",
    "# for \"a_h = atm\" only the atmospheric circulation used:\n",
    "#a_h = 'atmosphere'\n",
    "#a_h = 'hydrosphere'     # the transfer file with the extension *.vw from the corresponding atm-run must be available!\n",
    "a_h = 'atmosphere and hydrosphere'\n",
    "\n",
    "# for \"rebuild = True\" old output files are deleted:\n",
    "rebuild = False\n",
    "\n",
    "# applied configuration files for atmosphere and/or hydrosphere are named:\n",
    "config_xml_atm = 'config_atm.xml'\n",
    "config_xml_hyd = 'config_hyd.xml'\n",
    "\n",
    "# time slices in Ma to be compared are named:\n",
    "#time_slice = [ 0, 14 ]\n",
    "#time_slice = [ 0 ]\n",
    "time_slice = [ 14 ]\n",
    "\n",
    "# applied time slices\n",
    "for t_s in time_slice:\n",
    "    print 'time slice in Ma = ', t_s\n",
    "            \n",
    "    # naming the output paths\n",
    "    output_path = 'output-%s/' % t_s\n",
    "    print 'output path = ', output_path\n",
    "            \n",
    "    # deleting old output paths in case \"rebuild = True\"\n",
    "    if rebuild:\n",
    "        shutil.rmtree ( output_path )\n",
    "\n",
    "    if a_h == 'atmosphere':\n",
    "        # runing the atmosphere model\n",
    "        print 'run model: time slice in Ma = ', t_s, '   output path = ', output_path, '   configuration file = ', config_xml_atm\n",
    "        model.run_atm( t_s, output_path, config_xml_atm )\n",
    "    elif a_h == 'hydrosphere':        \n",
    "        # runing the hydrosphere model\n",
    "        print 'run model: time slice in Ma = ', t_s, '   output path = ', output_path, '   configuration file = ', config_xml_hyd\n",
    "        model.run_hyd( t_s, output_path, config_xml_hyd )\n",
    "    elif a_h == 'atmosphere and hydrosphere':        \n",
    "        # runing the atmosphere model\n",
    "        print 'run model: time slice in Ma = ', t_s, '   output path = ', output_path, '   configuration file = ', config_xml_atm\n",
    "        model.run_atm( t_s, output_path, config_xml_atm )\n",
    "        # runing the hydrosphere model\n",
    "        print 'run model: time slice in Ma = ', t_s, '   output path = ', output_path, '   configuration file = ', config_xml_hyd\n",
    "        model.run_hyd( t_s, output_path, config_xml_hyd )\n",
    "\n",
    "print 'end of benchmark session running %s' % a_h\n"
   ]
  },
  {
   "cell_type": "code",
   "execution_count": null,
   "metadata": {},
   "outputs": [],
   "source": [
    "import os.path\n",
    "import numpy as np\n",
    "Ma = t_s\n",
    "datapath = 'output-%s/' % Ma\n",
    "\n",
    "atm_header = ['lats (deg)', 'lons (deg)', 'topography', 'v-velocity (m/s)', 'w-velocity (m/s)', 'velocity-mag (m/s)', 'temperature (Celcius)', 'water_vapour (g/kg)', 'precipitation (mm)', 'precipitable_water (mm)']\n",
    "hyd_header = ['lats (deg)', 'lons (deg)', 'topography', 'v-velocity (m/s)', 'w-velocity (m/s)', 'velocity-mag (m/s)', 'temperature (Celsius)', 'salinity (psu)', 'bottom_water (m/s)', 'upwelling (m/s)', 'downwelling (m/s)']\n",
    "\n",
    "adata = np.loadtxt(os.path.join(datapath, '[%sMa_Golonka.xyz]_PlotData_Atm.xyz' % Ma), skiprows=1)\n",
    "hdata = np.loadtxt(os.path.join(datapath, '[%sMa_Golonka.xyz]_PlotData_Hyd.xyz' % Ma), skiprows=1)\n"
   ]
  },
  {
   "cell_type": "code",
   "execution_count": null,
   "metadata": {},
   "outputs": [],
   "source": [
    "import matplotlib.pyplot as plt\n",
    "\n",
    "from mpl_toolkits.basemap import Basemap\n",
    "import numpy as np\n",
    "from numpy import linspace\n",
    "from numpy import meshgrid\n",
    "\n",
    "def plot_xyz(data_topo, series, title, lats, lons):\n",
    "    plt.figure(figsize=(15, 8))\n",
    "\n",
    "    m = Basemap(llcrnrlon=0,llcrnrlat=-90,urcrnrlon=360,urcrnrlat=90,projection='kav7', lon_0=0)\n",
    "    \n",
    "    xi, yi = m(lons, lats)\n",
    "\n",
    "    #print 'lons = ', lons.shape, lons\n",
    "    #print 'lats = ', lats.shape, lats\n",
    "    #print 'series = ', series.shape, series\n",
    "    #print 'xi = ', xi.shape, xi\n",
    "    #print 'yi = ', yi.shape, yi\n",
    "    \n",
    "    cs = m.scatter(xi, yi, marker='.', c=series, alpha=0.5, lw=0)\n",
    "    \n",
    "    # Add Grid Lines\n",
    "    m.drawparallels(np.arange(-90., 90., 10.), labels=[1,0,0,0], fontsize=10)\n",
    "    m.drawmeridians(np.arange(-180., 180., 10.), labels=[0,0,0,1], fontsize=10)\n",
    "\n",
    "    if Ma == 0:\n",
    "        m.drawcoastlines()\n",
    "    else:  \n",
    "        x_d = np.zeros((361))\n",
    "        y_d = np.zeros((181))\n",
    "        series_draw = np.zeros((361,181))\n",
    "\n",
    "        i = 0\n",
    "        for j in range (0, 65341, 181):\n",
    "            x_d[i] = xi[j]\n",
    "            i = i + 1\n",
    "\n",
    "        for j in range (0, 181):        \n",
    "            y_d[j] = yi[j]\n",
    "                \n",
    "        y_draw, x_draw = np.meshgrid( y_d, x_d )\n",
    "        #print 'x_draw = ', x_draw.shape, x_draw\n",
    "        #print 'y_draw = ', y_draw.shape, y_draw\n",
    "  \n",
    "        for i in range (0, 361):\n",
    "            for j in range (0, 181):\n",
    "                series_draw[i][j] = data_topo[j]\n",
    "        #print 'series_draw.shape = ', series_draw.shape, series_draw\n",
    "        \n",
    "        con = m.contour( x_draw, y_draw, series_draw )\n",
    "        \n",
    "    # Add Colorbar\n",
    "    cbar = m.colorbar(cs, location='bottom', pad=\"10%\")\n",
    "    # cbar.set_label(tmax_units)\n",
    "\n",
    "    # Add Title\n",
    "    plt.title(title)\n",
    "    print plt.title(title)\n",
    "\n",
    "    plt.show()"
   ]
  },
  {
   "cell_type": "markdown",
   "metadata": {},
   "source": [
    "# Plot all Atmosphere outputs\n",
    "\n",
    "The outputs are given for example in `output-0/[0Ma_Golonka.xyz]_PlotData_Atm.xyz` files. \n",
    "\n",
    "Additional results must be prepared in the PostProcess_Atm.cpp in the class method  PostProcess_Atmosphere::Atmosphere_PlotData()\n"
   ]
  },
  {
   "cell_type": "code",
   "execution_count": null,
   "metadata": {},
   "outputs": [],
   "source": [
    "# Plot all of Atmosphere outputs\n",
    "\n",
    "alats = -(adata[:, 1] - 90.)\n",
    "alons = adata[:, 0]\n",
    "data_topo = adata[:, 2]\n",
    "\n",
    "title = atm_header[ 2 ]\n",
    "\n",
    "for index in range(3, 6):\n",
    "    title = atm_header[index]\n",
    "    plot_xyz(data_topo, adata[:, index], title + '  ATOM atmosphere at Ma=%s' % Ma, alats, alons)\n"
   ]
  },
  {
   "cell_type": "code",
   "execution_count": null,
   "metadata": {},
   "outputs": [],
   "source": [
    "for index in range(6, len(atm_header)):\n",
    "    title = atm_header[index]\n",
    "    plot_xyz(data_topo, adata[:, index], title + '  ATOM atmosphere at Ma=%s' % Ma, alats, alons)\n",
    "\n"
   ]
  },
  {
   "cell_type": "markdown",
   "metadata": {},
   "source": [
    "# Plot all Hydrosphere outputs\n",
    "\n",
    "The outputs are given for example in `output-0/[0Ma_Golonka.xyz]_PlotData_Hyd.xyz` files. \n",
    "\n",
    "Additional results must be prepared in the PostProcess_Hyd.cpp in the class method  PostProcess_Hydrosphere::Hydrosphere_PlotData()"
   ]
  },
  {
   "cell_type": "code",
   "execution_count": null,
   "metadata": {},
   "outputs": [],
   "source": [
    "# Plot all of Hydrosphere outputs\n",
    "hlats = -(hdata[:, 0] - 90)\n",
    "hlons = hdata[:, 1]\n",
    "data_topo = adata[:, 2]\n",
    "\n",
    "title = hyd_header[ 2 ]\n",
    "\n",
    "for index in range(3, 6):\n",
    "    title = hyd_header[index]\n",
    "    plot_xyz(data_topo, hdata[:, index], title + '  ATOM hydrosphere at Ma=%s' % Ma, hlats, hlons)\n"
   ]
  },
  {
   "cell_type": "code",
   "execution_count": null,
   "metadata": {},
   "outputs": [],
   "source": [
    "for index in range(6, len(hyd_header)):\n",
    "    title = hyd_header[index]\n",
    "    plot_xyz(data_topo, hdata[:, index], title + '  ATOM hydrosphere at Ma=%s' % Ma, hlats, hlons)\n"
   ]
  },
  {
   "cell_type": "code",
   "execution_count": null,
   "metadata": {},
   "outputs": [],
   "source": [
    "for index in range(9, len(hyd_header)):\n",
    "    title = hyd_header[index]\n",
    "    plot_xyz(data_topo, hdata[:, index], title + '  ATOM hydrosphere at Ma=%s' % Ma, hlats, hlons)\n",
    "\n"
   ]
  },
  {
   "cell_type": "markdown",
   "metadata": {},
   "source": [
    "# Compare surface precipitation\n",
    "\n",
    "ATOM's precipitation for the modern world can be compared to NASA's measured precipitation.\n"
   ]
  },
  {
   "cell_type": "code",
   "execution_count": null,
   "metadata": {},
   "outputs": [],
   "source": [
    "# nsp: NASA Surface Precipitation\n",
    "nsp = np.genfromtxt('../data/SurfacePrecipitation_NASA.xyz')\n",
    "# columns lons, lats, precip\n",
    "\n",
    "if Ma == 0:\n",
    "    plot_xyz(data_topo, lons=nsp[:, 0], lats=nsp[:, 1], series=nsp[:, 2], title='NASA Surface Precipitation')\n",
    "\n",
    "plot_xyz(data_topo, adata[:, 7], 'ATOM precipitation at Ma=%s' % Ma, alats, alons)\n",
    "\n"
   ]
  },
  {
   "cell_type": "markdown",
   "metadata": {},
   "source": [
    "# Compare surface temperature\n",
    "\n",
    "ATOM's temperature distribution for the modern world can be compared to NASA's measured precipitation.\n",
    "ATOM also can start with NASA's measured temperature distribution as initial condition. This must be changed in cAtmosphereModel.cpp.\n",
    "\n"
   ]
  },
  {
   "cell_type": "code",
   "execution_count": null,
   "metadata": {},
   "outputs": [],
   "source": [
    "# st: Surface Temperature\n",
    "st = np.genfromtxt('../data/SurfaceTemperature_NASA.xyz')\n",
    "# columns lons, lats, ?\n",
    "\n",
    "if Ma == 0:\n",
    "    plot_xyz(data_topo, lons=st[:, 0], lats=st[:, 1], series=st[:, 2], title='Surface Temperature_NASA')\n",
    "plot_xyz(data_topo, adata[:, 6], 'ATOM atmosphere temperature (Celsius) at Ma=%s' % Ma, alats, alons)\n",
    "plot_xyz(data_topo, hdata[:, 6], 'ATOM hydrosphere temperature (Celsius) at Ma=%s' % Ma, hlats, hlons)\n"
   ]
  },
  {
   "cell_type": "markdown",
   "metadata": {},
   "source": [
    "# Surface Winds benchmarking\n",
    "\n",
    "Surface winds benchmarking is still in progress.\n",
    "Reference data comes from https://podaac.jpl.nasa.gov/dataset/QSCAT_L3_SFC_WIND_SPEED_1DEG_1MO\n",
    "     "
   ]
  },
  {
   "cell_type": "code",
   "execution_count": null,
   "metadata": {},
   "outputs": [],
   "source": [
    "# load windspeed data\n",
    "from netCDF4 import Dataset\n",
    "root = Dataset('windspeed/sfcWind_QuikSCAT_L2B_v20110531_199908-200910.nc')\n",
    "# print root\n",
    "# print root.dimensions.keys()\n",
    "#print root.variables.keys()\n",
    "\n",
    "t = root.variables['time'][-1]  # just take the newest timeslice\n",
    "\n",
    "# NOTE: wind mags vary substantially with time; what time should we be using? or average it all out?\n",
    "\n",
    "swlats = root.variables['lat'][:]\n",
    "swlons = root.variables['lon'][:]\n",
    "swspeed = root.variables['sfcWind'][-1]\n",
    "\n",
    "lonv, latv = np.meshgrid(swlons, swlats)\n",
    "\n",
    "if Ma == 0:\n",
    "    plot_xyz(data_topo, lats=latv.flatten(), lons=lonv.flatten(), title='Surface Wind QuikSCAT', series=swspeed.flatten())\n",
    "\n",
    "root.close()"
   ]
  },
  {
   "cell_type": "code",
   "execution_count": null,
   "metadata": {},
   "outputs": [],
   "source": [
    "# load windspeed data\n",
    "import netCDF4\n",
    "from netCDF4 import Dataset\n",
    "root = Dataset('windspeed/uas_QuikSCAT_L2B_v20110531_199908-200910.nc')\n",
    "#print root.variables.keys()\n",
    "\n",
    "t = root.variables['time'][-1]  # just take the newest timeslice\n",
    "\n",
    "# NOTE: wind mags vary substantially with time; what time should we be using? or average it all out?\n",
    "\n",
    "swlats = root.variables['lat'][:]\n",
    "swlons = root.variables['lon'][:]\n",
    "swspeed = root.variables['uas'][-1]\n",
    "\n",
    "lonv, latv = np.meshgrid(swlons, swlats)\n",
    "\n",
    "if Ma == 0:\n",
    "    plot_xyz(data_topo, lats=latv.flatten(), lons=lonv.flatten(), title='Surface Wind QuikSCAT u-mag', series=swspeed.flatten())\n",
    "\n",
    "root.close()"
   ]
  },
  {
   "cell_type": "code",
   "execution_count": null,
   "metadata": {
    "scrolled": true
   },
   "outputs": [],
   "source": [
    "# load windspeed data\n",
    "from netCDF4 import Dataset\n",
    "root = Dataset('windspeed/vas_QuikSCAT_L2B_v20110531_199908-200910.nc')\n",
    "#print root.variables.keys()\n",
    "\n",
    "t = root.variables['time'][-1]  # just take the newest timeslice\n",
    "\n",
    "# NOTE: wind mags vary substantially with time; what time should we be using? or average it all out?\n",
    "\n",
    "swlats = root.variables['lat'][:]\n",
    "swlons = root.variables['lon'][:]\n",
    "swspeed = root.variables['vas'][-1]\n",
    "\n",
    "lonv, latv = np.meshgrid(swlons, swlats)\n",
    "\n",
    "if Ma == 0:\n",
    "    plot_xyz(data_topo, lats=latv.flatten(), lons=lonv.flatten(), title='Surface Wind QuikSCAT v-mag', series=swspeed.flatten())\n",
    "\n",
    "root.close()"
   ]
  },
  {
   "cell_type": "code",
   "execution_count": null,
   "metadata": {
    "scrolled": true
   },
   "outputs": [],
   "source": [
    "for index in range(3, 6):\n",
    "#    title = 'Atmosphere: %s' % atm_header[index]\n",
    "    title = atm_header[index]\n",
    "    plot_xyz(data_topo, adata[:, index], title + '  ATOM atmosphere at Ma=%s' % Ma, alats, alons)\n",
    "\n"
   ]
  },
  {
   "cell_type": "markdown",
   "metadata": {},
   "source": [
    "# Surface Currents benchmarking\n",
    "\n",
    "Surface currents benchmarking is still in progress.\n",
    "Using data from https://podaac.jpl.nasa.gov/dataset/OSCAR_L4_OC_third-deg\n"
   ]
  },
  {
   "cell_type": "code",
   "execution_count": null,
   "metadata": {
    "scrolled": true
   },
   "outputs": [],
   "source": [
    "from netCDF4 import Dataset\n",
    "root = Dataset('oscar/oscar_vel8879.nc')\n",
    "#print root.variables.keys()\n",
    "\n",
    "sclats = root.variables['latitude'][:]\n",
    "sclons = root.variables['longitude'][:]\n",
    "u = root.variables['u'][0][0][:]\n",
    "v = root.variables['v'][0][0][:]\n",
    "\n",
    "\n",
    "#print sclats.shape \n",
    "#print sclons.shape\n",
    "#print u.shape\n",
    "#print v.shape\n",
    "\n",
    "lonv, latv = np.meshgrid(sclons, sclats)\n",
    "\n",
    "if Ma == 0:\n",
    "    plot_xyz(data_topo, lats=latv.flatten(), lons=lonv.flatten(), title='OSCAR Surface Currents u-mag', series=np.log(u.flatten()))\n"
   ]
  },
  {
   "cell_type": "code",
   "execution_count": null,
   "metadata": {},
   "outputs": [],
   "source": [
    "if Ma == 0:\n",
    "    plot_xyz(data_topo, lats=latv.flatten(), lons=lonv.flatten(), title='OSCAR Surface Currents v-mag', series=v.flatten())\n",
    "\n",
    "root.close()"
   ]
  },
  {
   "cell_type": "code",
   "execution_count": null,
   "metadata": {},
   "outputs": [],
   "source": [
    "# NOTE: mysterious transpositions\n",
    "hlats = -(hdata[:, 0] - 90)\n",
    "hlons = hdata[:, 1]\n",
    "\n",
    "for index in range(3, 6):\n",
    "#    title = \"Hydrosphere: %s\" % hyd_header[index]\n",
    "    title = hyd_header[index]\n",
    "    plot_xyz(data_topo, hdata[:, index], title + '  ATOM hydrosphere at Ma=%s' % Ma, hlats, hlons)\n"
   ]
  },
  {
   "cell_type": "code",
   "execution_count": null,
   "metadata": {
    "collapsed": true
   },
   "outputs": [],
   "source": []
  }
 ],
 "metadata": {
  "kernelspec": {
   "display_name": "Python 2",
   "language": "python",
   "name": "python2"
  },
  "language_info": {
   "codemirror_mode": {
    "name": "ipython",
    "version": 2
   },
   "file_extension": ".py",
   "mimetype": "text/x-python",
   "name": "python",
   "nbconvert_exporter": "python",
   "pygments_lexer": "ipython2",
   "version": "2.7.12"
  }
 },
 "nbformat": 4,
 "nbformat_minor": 1
}
