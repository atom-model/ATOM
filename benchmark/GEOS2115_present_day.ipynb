{
 "cells": [
  {
   "cell_type": "markdown",
   "metadata": {},
   "source": [
    "#### Initialization \n",
    "Import libraries and set variables. This code cell must run first. All the code cells below depend on this code cell. The implementation details are inside GEOS2115.py which locates in the same directory with this Jupyter Notebook file."
   ]
  },
  {
   "cell_type": "code",
   "execution_count": null,
   "metadata": {
    "scrolled": true
   },
   "outputs": [],
   "source": [
    "import warnings\n",
    "warnings.filterwarnings('ignore')\n",
    "\n",
    "%matplotlib inline \n",
    "\n",
    "import GEOS2115_cfg\n",
    "#do not change the following commented-out lines unless you are told to change them.\n",
    "#GEOS2115_cfg.ATOM_HOME = '../'\n",
    "#the location of atom output files\n",
    "#the atom output is the input of this notebook\n",
    "#GEOS2115_cfg.OUTPUT_DIR = './output/' \n",
    "\n",
    "from GEOS2115 import *\n"
   ]
  },
  {
   "cell_type": "markdown",
   "metadata": {},
   "source": [
    "#### Topography Maps\n",
    "This code cell draws the present-day topography map. "
   ]
  },
  {
   "cell_type": "code",
   "execution_count": null,
   "metadata": {
    "scrolled": false
   },
   "outputs": [],
   "source": [
    "\n",
    "draw_topography_map(0)\n",
    "    "
   ]
  },
  {
   "cell_type": "markdown",
   "metadata": {},
   "source": [
    "#### Temperature Maps\n",
    "This code cell will draw the present day temperature map from NASA first and then draw the temperature map at a given time. The time must be one of the time steps."
   ]
  },
  {
   "cell_type": "code",
   "execution_count": null,
   "metadata": {},
   "outputs": [],
   "source": [
    "#choose air temperature or ocean temperature\n",
    "air_or_ocean = 'air' \n",
    "#air_or_ocean = 'ocean'\n",
    "    \n",
    "draw_NASA_present_day_temperature_map()\n",
    "\n",
    "draw_temperature_map(0, air_or_ocean)\n"
   ]
  },
  {
   "cell_type": "markdown",
   "metadata": {},
   "source": [
    "#### Precipitation Maps\n",
    "This code cell will draw the present day precipitation map from NASA first and then draw the precipitation map at a given time. The time must be one of the time steps."
   ]
  },
  {
   "cell_type": "code",
   "execution_count": null,
   "metadata": {},
   "outputs": [],
   "source": [
    "\n",
    "draw_NASA_present_day_precipitation_map()\n",
    "\n",
    "draw_precipitation_map(0)\n"
   ]
  },
  {
   "cell_type": "markdown",
   "metadata": {},
   "source": [
    "#### Surface Wind and Ocean Current Velocity Maps\n",
    "This code cell draws surface wind and ocean current velocities in a map. "
   ]
  },
  {
   "cell_type": "code",
   "execution_count": null,
   "metadata": {},
   "outputs": [],
   "source": [
    "\n",
    "draw_surfacre_wind_velocity_map(0)\n",
    "    \n",
    "draw_ocean_current_velocity_map(0)\n"
   ]
  },
  {
   "cell_type": "markdown",
   "metadata": {},
   "source": [
    "#### Salinity Map\n",
    "This cell will draw the present-day salinity map."
   ]
  },
  {
   "cell_type": "code",
   "execution_count": null,
   "metadata": {},
   "outputs": [],
   "source": [
    "\n",
    "draw_salinity_map(0)\n"
   ]
  },
  {
   "cell_type": "markdown",
   "metadata": {},
   "source": [
    "#### Upwelling Map\n",
    "This cell will draw the present-day upwelling map."
   ]
  },
  {
   "cell_type": "code",
   "execution_count": null,
   "metadata": {},
   "outputs": [],
   "source": [
    "\n",
    "draw_upwelling_map(0)\n"
   ]
  },
  {
   "cell_type": "markdown",
   "metadata": {},
   "source": [
    "#### Plot of Transect\n",
    "User chooses a longitude and a property name. This code cell will collect all the property values along the transect which is at the longitude and parallel to Meridian. The plot will show how the property value changes along the transect."
   ]
  },
  {
   "cell_type": "code",
   "execution_count": null,
   "metadata": {},
   "outputs": [],
   "source": [
    "lon = 45 #longitude\n",
    "\n",
    "property_name = 'temperature'\n",
    "#property_name = 'ocean_temperature'\n",
    "#property_name = 'salinity'\n",
    "#property_name = 'ocean_velocity'\n",
    "\n",
    "draw_transects(property_name, 0, lon)\n"
   ]
  },
  {
   "cell_type": "code",
   "execution_count": null,
   "metadata": {},
   "outputs": [],
   "source": []
  }
 ],
 "metadata": {
  "kernelspec": {
   "display_name": "Python 2",
   "language": "python",
   "name": "python2"
  },
  "language_info": {
   "codemirror_mode": {
    "name": "ipython",
    "version": 2
   },
   "file_extension": ".py",
   "mimetype": "text/x-python",
   "name": "python",
   "nbconvert_exporter": "python",
   "pygments_lexer": "ipython2",
   "version": "2.7.12"
  }
 },
 "nbformat": 4,
 "nbformat_minor": 2
}
