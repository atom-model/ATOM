{
 "cells": [
  {
   "cell_type": "markdown",
   "metadata": {},
   "source": [
    "### Draw the topography"
   ]
  },
  {
   "cell_type": "code",
   "execution_count": null,
   "metadata": {},
   "outputs": [],
   "source": [
    "import matplotlib.pyplot as plt\n",
    "from mpl_toolkits.basemap import Basemap\n",
    "import numpy as np\n",
    "\n",
    "data = np.genfromtxt('../data/Paleotopography_bathymetry/Golonka_rev210/10Ma_Golonka.xyz')\n",
    "#data = np.genfromtxt('../data/Paleotopography_bathymetry/Golonka_rev210.bak/10Ma_Golonka.xyz')\n",
    "x = data[:,0]\n",
    "y = data[:,1]\n",
    "z = data[:,2]\n",
    "\n",
    "plt.figure(figsize=(15, 8))\n",
    "\n",
    "m = Basemap(llcrnrlon=-180,llcrnrlat=-90,urcrnrlon=180,urcrnrlat=90,projection='kav7', lon_0=0)    \n",
    "xi, yi = m(x, y)\n",
    "cs = m.scatter(xi, yi, marker='.', c=z, alpha=0.5, lw=0)\n",
    "\n",
    "m.drawparallels(np.arange(-90., 90., 10.), labels=[1,0,0,0], fontsize=10)\n",
    "m.drawmeridians(np.arange(-180., 180., 45.), labels=[0,0,0,1], fontsize=10)\n",
    "#m.drawcoastlines()   \n",
    "\n",
    "cbar = m.colorbar(cs, location='bottom', pad=\"10%\")\n",
    "plt.title(\"topography\")\n",
    "plt.show()\n",
    "plt.close()"
   ]
  },
  {
   "cell_type": "markdown",
   "metadata": {},
   "source": [
    "### Draw temperature\n",
    "lons:0-360 [1] \n",
    "Lats:(90)-(-90) [0] "
   ]
  },
  {
   "cell_type": "code",
   "execution_count": null,
   "metadata": {},
   "outputs": [],
   "source": [
    "import matplotlib.pyplot as plt\n",
    "from mpl_toolkits.basemap import Basemap\n",
    "import numpy as np\n",
    "\n",
    "data = np.genfromtxt('../data/SurfaceTemperature_NASA.xyz')\n",
    "#print data\n",
    "x = data[:,0]\n",
    "y = data[:,1]\n",
    "z = data[:,2]\n",
    "\n",
    "plt.figure(figsize=(15, 8))\n",
    "\n",
    "m = Basemap(llcrnrlon=-180,llcrnrlat=-90,urcrnrlon=180,urcrnrlat=90,projection='kav7', lon_0=0)    \n",
    "xi, yi = m(x, y)\n",
    "cs = m.scatter(xi, yi, marker='.', c=z, alpha=0.5, lw=0)\n",
    "\n",
    "m.drawparallels(np.arange(-90., 90., 10.), labels=[1,0,0,0], fontsize=10)\n",
    "m.drawmeridians(np.arange(-180., 180., 45.), labels=[0,0,0,1], fontsize=10)\n",
    "m.drawcoastlines()   \n",
    "\n",
    "cbar = m.colorbar(cs, location='bottom', pad=\"10%\")\n",
    "plt.title(\"temperature\")\n",
    "plt.show()"
   ]
  },
  {
   "cell_type": "markdown",
   "metadata": {},
   "source": [
    "### Draw output \n",
    "Lons: 0-360 [1]\n",
    "Lats: 0-180 [0]"
   ]
  },
  {
   "cell_type": "code",
   "execution_count": null,
   "metadata": {},
   "outputs": [],
   "source": [
    "import matplotlib.pyplot as plt\n",
    "from mpl_toolkits.basemap import Basemap\n",
    "import numpy as np\n",
    "\n",
    "data = np.genfromtxt('./output/[20Ma_Golonka.xyz]_PlotData_Atm.xyz',skip_header=1)\n",
    "for d in data:\n",
    "    d[1]=90-d[1]\n",
    "x = data[:,0]\n",
    "y = data[:,1]\n",
    "z = data[:,6]\n",
    "\n",
    "plt.figure(figsize=(15, 8))\n",
    "\n",
    "m = Basemap(llcrnrlon=-180,llcrnrlat=-90,urcrnrlon=180,urcrnrlat=90,projection='kav7', lon_0=0)    \n",
    "xi, yi = m(x, y)\n",
    "cs = m.scatter(xi, yi, marker='.', c=z, alpha=0.5, lw=0)\n",
    "\n",
    "m.drawparallels(np.arange(-90., 90., 10.), labels=[1,0,0,0], fontsize=10)\n",
    "m.drawmeridians(np.arange(-180., 180., 45.), labels=[0,0,0,1], fontsize=10)\n",
    "m.drawcoastlines()   \n",
    "\n",
    "cbar = m.colorbar(cs, location='bottom', pad=\"10%\")\n",
    "plt.title(\"temperature\")\n",
    "plt.show()"
   ]
  },
  {
   "cell_type": "code",
   "execution_count": null,
   "metadata": {},
   "outputs": [],
   "source": [
    "import numpy as np\n",
    "import matplotlib.pyplot as plt\n",
    "\n",
    "adata = np.loadtxt('./output/[10Ma_Golonka.xyz]_PlotData_Atm.xyz', skiprows=1)\n",
    "data = adata[:,6]\n",
    "data = data[~np.isnan(data)]\n",
    "if data:\n",
    "    print np.nanmin(data), np.nanmax(data)\n",
    "    # the histogram of the data\n",
    "    n, bins, patches = plt.hist(data, 50, normed=1, facecolor='g', alpha=0.75)\n",
    "\n",
    "    plt.grid(True)\n",
    "    plt.show()\n",
    "else:\n",
    "    print \"NO valid data found.\""
   ]
  },
  {
   "cell_type": "code",
   "execution_count": null,
   "metadata": {},
   "outputs": [],
   "source": []
  }
 ],
 "metadata": {
  "kernelspec": {
   "display_name": "Python 2",
   "language": "python",
   "name": "python2"
  },
  "language_info": {
   "codemirror_mode": {
    "name": "ipython",
    "version": 2
   },
   "file_extension": ".py",
   "mimetype": "text/x-python",
   "name": "python",
   "nbconvert_exporter": "python",
   "pygments_lexer": "ipython2",
   "version": "2.7.12"
  }
 },
 "nbformat": 4,
 "nbformat_minor": 2
}
