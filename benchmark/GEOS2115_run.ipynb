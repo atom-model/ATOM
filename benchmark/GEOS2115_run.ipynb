{
 "cells": [
  {
   "cell_type": "markdown",
   "metadata": {},
   "source": [
    "#### Initialization \n",
    "Import libraries and set variables. This code cell must run first. All the code cells below depend on this code cell. The implementation details are inside GEOS2115.py which locates in the same directory with this Jupyter Notebook file."
   ]
  },
  {
   "cell_type": "code",
   "execution_count": null,
   "metadata": {
    "scrolled": true
   },
   "outputs": [],
   "source": [
    "import warnings\n",
    "warnings.filterwarnings('ignore')\n",
    "\n",
    "%matplotlib inline \n",
    "\n",
    "import GEOS2115_cfg\n",
    "#do not change the following commented-out lines unless you are told to change them.\n",
    "#GEOS2115_cfg.ATOM_HOME = '../'\n",
    "#GEOS2115_cfg.ATM_CFG_FILE_NAME = './config_atm.xml'\n",
    "#GEOS2115_cfg.HYD_CFG_FILE_NAME = './config_hyd.xml'\n",
    "GEOS2115_cfg.OUTPUT_DIR = './output/' #the location of atom output files\n",
    "\n",
    "from GEOS2115 import *\n",
    "\n",
    "#set start time, end time and time step \n",
    "start_time = 0\n",
    "end_time = 50\n",
    "time_step = 10\n",
    "\n",
    "print('The time steps are ' + str(range(start_time, end_time+1, time_step)))\n"
   ]
  },
  {
   "cell_type": "markdown",
   "metadata": {},
   "source": [
    "#### Run ATOM Model\n",
    "This code cell runs the ATOM model for each time steps. The output will be saved on hard drive and the following code cells need the output files to visualize and analyse the results. This code cell will take a while to finish, be patient ..."
   ]
  },
  {
   "cell_type": "code",
   "execution_count": null,
   "metadata": {},
   "outputs": [],
   "source": [
    "print('The time steps are ' + str(range(start_time, end_time+1, time_step)))\n",
    "\n",
    "run_model(start_time, end_time, time_step)\n"
   ]
  },
  {
   "cell_type": "markdown",
   "metadata": {},
   "source": [
    "#### Create All Maps\n",
    "This code cell will create all the maps in the output directory."
   ]
  },
  {
   "cell_type": "code",
   "execution_count": null,
   "metadata": {},
   "outputs": [],
   "source": [
    "import os\n",
    "if os.system('python create_all_maps.py {0} {1} {2} {3} {4}'.format(\n",
    "        start_time, end_time, time_step, GEOS2115_cfg.ATOM_HOME, GEOS2115_cfg.OUTPUT_DIR)) == 0:\n",
    "    print('Maps have been created successfully!')\n",
    "else:\n",
    "    print('Something went wrong!')\n",
    "    "
   ]
  }
 ],
 "metadata": {
  "kernelspec": {
   "display_name": "Python 2",
   "language": "python",
   "name": "python2"
  },
  "language_info": {
   "codemirror_mode": {
    "name": "ipython",
    "version": 2
   },
   "file_extension": ".py",
   "mimetype": "text/x-python",
   "name": "python",
   "nbconvert_exporter": "python",
   "pygments_lexer": "ipython2",
   "version": "2.7.12"
  }
 },
 "nbformat": 4,
 "nbformat_minor": 2
}
